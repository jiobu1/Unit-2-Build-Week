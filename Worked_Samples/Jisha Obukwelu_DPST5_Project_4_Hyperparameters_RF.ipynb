{
 "cells": [
  {
   "cell_type": "markdown",
   "metadata": {},
   "source": [
    "# ***Outline***"
   ]
  },
  {
   "cell_type": "markdown",
   "metadata": {},
   "source": [
    "This data set is a compilation state expenditure, student demographic, and 4th and 8th grade math and reading scores. This project is trying to create a model that can predict student scores based on these features."
   ]
  },
  {
   "cell_type": "markdown",
   "metadata": {},
   "source": [
    "# ***Data***"
   ]
  },
  {
   "cell_type": "markdown",
   "metadata": {},
   "source": [
    "## ***Upload Data***"
   ]
  },
  {
   "cell_type": "code",
   "execution_count": 1,
   "metadata": {},
   "outputs": [
    {
     "name": "stdout",
     "output_type": "stream",
     "text": [
      "Collecting package metadata (current_repodata.json): done\n",
      "Solving environment: | \n",
      "Warning: 4 possible package resolutions (only showing differing packages):\n",
      "  - anaconda/osx-64::ca-certificates-2020.1.1-0, anaconda/osx-64::openssl-1.1.1d-h1de35cc_4\n",
      "  - anaconda/osx-64::openssl-1.1.1d-h1de35cc_4, defaults/osx-64::ca-certificates-2020.1.1-0\n",
      "  - anaconda/osx-64::ca-certificates-2020.1.1-0, defaults/osx-64::openssl-1.1.1d-h1de35cc_4\n",
      "  - defaults/osx-64::ca-certificates-2020.1.1-0, defaults/osx-64::openssl-1.1.1d-h1de35ccdone\n",
      "\n",
      "# All requested packages already installed.\n",
      "\n"
     ]
    }
   ],
   "source": [
    "import sys\n",
    "!conda install --yes --prefix {sys.prefix} numpy"
   ]
  },
  {
   "cell_type": "code",
   "execution_count": 2,
   "metadata": {},
   "outputs": [],
   "source": [
    "import os"
   ]
  },
  {
   "cell_type": "code",
   "execution_count": 3,
   "metadata": {},
   "outputs": [],
   "source": [
    "import pandas as pd"
   ]
  },
  {
   "cell_type": "code",
   "execution_count": 4,
   "metadata": {},
   "outputs": [],
   "source": [
    "DATA_PATH = '/Users/jisha/Unit 240_Build_Week/data/'\n",
    "states = pd.read_csv(DATA_PATH + 'states_all_extended.csv')\n",
    "finances = pd.read_csv(DATA_PATH + 'finance_states.csv')"
   ]
  },
  {
   "cell_type": "code",
   "execution_count": 5,
   "metadata": {},
   "outputs": [
    {
     "data": {
      "text/html": [
       "<div>\n",
       "<style scoped>\n",
       "    .dataframe tbody tr th:only-of-type {\n",
       "        vertical-align: middle;\n",
       "    }\n",
       "\n",
       "    .dataframe tbody tr th {\n",
       "        vertical-align: top;\n",
       "    }\n",
       "\n",
       "    .dataframe thead th {\n",
       "        text-align: right;\n",
       "    }\n",
       "</style>\n",
       "<table border=\"1\" class=\"dataframe\">\n",
       "  <thead>\n",
       "    <tr style=\"text-align: right;\">\n",
       "      <th></th>\n",
       "      <th>PRIMARY_KEY</th>\n",
       "      <th>STATE</th>\n",
       "      <th>YEAR</th>\n",
       "      <th>ENROLL</th>\n",
       "      <th>TOTAL_REVENUE</th>\n",
       "      <th>FEDERAL_REVENUE</th>\n",
       "      <th>STATE_REVENUE</th>\n",
       "      <th>LOCAL_REVENUE</th>\n",
       "      <th>TOTAL_EXPENDITURE</th>\n",
       "      <th>INSTRUCTION_EXPENDITURE</th>\n",
       "      <th>...</th>\n",
       "      <th>GRADES_4_TRF</th>\n",
       "      <th>GRADES_8_TRF</th>\n",
       "      <th>GRADES_12_TRF</th>\n",
       "      <th>GRADES_1_8_TRF</th>\n",
       "      <th>GRADES_9_12_TRF</th>\n",
       "      <th>GRADES_ALL_TRF</th>\n",
       "      <th>AVG_MATH_4_SCORE</th>\n",
       "      <th>AVG_MATH_8_SCORE</th>\n",
       "      <th>AVG_READING_4_SCORE</th>\n",
       "      <th>AVG_READING_8_SCORE</th>\n",
       "    </tr>\n",
       "  </thead>\n",
       "  <tbody>\n",
       "    <tr>\n",
       "      <th>0</th>\n",
       "      <td>1992_ALABAMA</td>\n",
       "      <td>ALABAMA</td>\n",
       "      <td>1992</td>\n",
       "      <td>NaN</td>\n",
       "      <td>2678885.0</td>\n",
       "      <td>304177.0</td>\n",
       "      <td>1659028.0</td>\n",
       "      <td>715680.0</td>\n",
       "      <td>2653798.0</td>\n",
       "      <td>1481703.0</td>\n",
       "      <td>...</td>\n",
       "      <td>NaN</td>\n",
       "      <td>NaN</td>\n",
       "      <td>NaN</td>\n",
       "      <td>NaN</td>\n",
       "      <td>NaN</td>\n",
       "      <td>NaN</td>\n",
       "      <td>208.327876</td>\n",
       "      <td>252.187522</td>\n",
       "      <td>207.963517</td>\n",
       "      <td>NaN</td>\n",
       "    </tr>\n",
       "    <tr>\n",
       "      <th>1</th>\n",
       "      <td>1992_ALASKA</td>\n",
       "      <td>ALASKA</td>\n",
       "      <td>1992</td>\n",
       "      <td>NaN</td>\n",
       "      <td>1049591.0</td>\n",
       "      <td>106780.0</td>\n",
       "      <td>720711.0</td>\n",
       "      <td>222100.0</td>\n",
       "      <td>972488.0</td>\n",
       "      <td>498362.0</td>\n",
       "      <td>...</td>\n",
       "      <td>NaN</td>\n",
       "      <td>NaN</td>\n",
       "      <td>NaN</td>\n",
       "      <td>NaN</td>\n",
       "      <td>NaN</td>\n",
       "      <td>NaN</td>\n",
       "      <td>NaN</td>\n",
       "      <td>NaN</td>\n",
       "      <td>NaN</td>\n",
       "      <td>258.859712</td>\n",
       "    </tr>\n",
       "    <tr>\n",
       "      <th>2</th>\n",
       "      <td>1992_ARIZONA</td>\n",
       "      <td>ARIZONA</td>\n",
       "      <td>1992</td>\n",
       "      <td>NaN</td>\n",
       "      <td>3258079.0</td>\n",
       "      <td>297888.0</td>\n",
       "      <td>1369815.0</td>\n",
       "      <td>1590376.0</td>\n",
       "      <td>3401580.0</td>\n",
       "      <td>1435908.0</td>\n",
       "      <td>...</td>\n",
       "      <td>NaN</td>\n",
       "      <td>NaN</td>\n",
       "      <td>NaN</td>\n",
       "      <td>NaN</td>\n",
       "      <td>NaN</td>\n",
       "      <td>NaN</td>\n",
       "      <td>215.253932</td>\n",
       "      <td>265.366278</td>\n",
       "      <td>206.212716</td>\n",
       "      <td>262.169895</td>\n",
       "    </tr>\n",
       "    <tr>\n",
       "      <th>3</th>\n",
       "      <td>1992_ARKANSAS</td>\n",
       "      <td>ARKANSAS</td>\n",
       "      <td>1992</td>\n",
       "      <td>NaN</td>\n",
       "      <td>1711959.0</td>\n",
       "      <td>178571.0</td>\n",
       "      <td>958785.0</td>\n",
       "      <td>574603.0</td>\n",
       "      <td>1743022.0</td>\n",
       "      <td>964323.0</td>\n",
       "      <td>...</td>\n",
       "      <td>NaN</td>\n",
       "      <td>NaN</td>\n",
       "      <td>NaN</td>\n",
       "      <td>NaN</td>\n",
       "      <td>NaN</td>\n",
       "      <td>NaN</td>\n",
       "      <td>210.206028</td>\n",
       "      <td>256.312090</td>\n",
       "      <td>208.634458</td>\n",
       "      <td>264.619665</td>\n",
       "    </tr>\n",
       "    <tr>\n",
       "      <th>4</th>\n",
       "      <td>1992_CALIFORNIA</td>\n",
       "      <td>CALIFORNIA</td>\n",
       "      <td>1992</td>\n",
       "      <td>NaN</td>\n",
       "      <td>26260025.0</td>\n",
       "      <td>2072470.0</td>\n",
       "      <td>16546514.0</td>\n",
       "      <td>7641041.0</td>\n",
       "      <td>27138832.0</td>\n",
       "      <td>14358922.0</td>\n",
       "      <td>...</td>\n",
       "      <td>NaN</td>\n",
       "      <td>NaN</td>\n",
       "      <td>NaN</td>\n",
       "      <td>NaN</td>\n",
       "      <td>NaN</td>\n",
       "      <td>NaN</td>\n",
       "      <td>208.398961</td>\n",
       "      <td>260.892247</td>\n",
       "      <td>196.764414</td>\n",
       "      <td>NaN</td>\n",
       "    </tr>\n",
       "  </tbody>\n",
       "</table>\n",
       "<p>5 rows × 193 columns</p>\n",
       "</div>"
      ],
      "text/plain": [
       "       PRIMARY_KEY       STATE  YEAR  ENROLL  TOTAL_REVENUE  FEDERAL_REVENUE  \\\n",
       "0     1992_ALABAMA     ALABAMA  1992     NaN      2678885.0         304177.0   \n",
       "1      1992_ALASKA      ALASKA  1992     NaN      1049591.0         106780.0   \n",
       "2     1992_ARIZONA     ARIZONA  1992     NaN      3258079.0         297888.0   \n",
       "3    1992_ARKANSAS    ARKANSAS  1992     NaN      1711959.0         178571.0   \n",
       "4  1992_CALIFORNIA  CALIFORNIA  1992     NaN     26260025.0        2072470.0   \n",
       "\n",
       "   STATE_REVENUE  LOCAL_REVENUE  TOTAL_EXPENDITURE  INSTRUCTION_EXPENDITURE  \\\n",
       "0      1659028.0       715680.0          2653798.0                1481703.0   \n",
       "1       720711.0       222100.0           972488.0                 498362.0   \n",
       "2      1369815.0      1590376.0          3401580.0                1435908.0   \n",
       "3       958785.0       574603.0          1743022.0                 964323.0   \n",
       "4     16546514.0      7641041.0         27138832.0               14358922.0   \n",
       "\n",
       "   ...  GRADES_4_TRF  GRADES_8_TRF  GRADES_12_TRF  GRADES_1_8_TRF  \\\n",
       "0  ...           NaN           NaN            NaN             NaN   \n",
       "1  ...           NaN           NaN            NaN             NaN   \n",
       "2  ...           NaN           NaN            NaN             NaN   \n",
       "3  ...           NaN           NaN            NaN             NaN   \n",
       "4  ...           NaN           NaN            NaN             NaN   \n",
       "\n",
       "   GRADES_9_12_TRF  GRADES_ALL_TRF  AVG_MATH_4_SCORE  AVG_MATH_8_SCORE  \\\n",
       "0              NaN             NaN        208.327876        252.187522   \n",
       "1              NaN             NaN               NaN               NaN   \n",
       "2              NaN             NaN        215.253932        265.366278   \n",
       "3              NaN             NaN        210.206028        256.312090   \n",
       "4              NaN             NaN        208.398961        260.892247   \n",
       "\n",
       "   AVG_READING_4_SCORE  AVG_READING_8_SCORE  \n",
       "0           207.963517                  NaN  \n",
       "1                  NaN           258.859712  \n",
       "2           206.212716           262.169895  \n",
       "3           208.634458           264.619665  \n",
       "4           196.764414                  NaN  \n",
       "\n",
       "[5 rows x 193 columns]"
      ]
     },
     "execution_count": 5,
     "metadata": {},
     "output_type": "execute_result"
    }
   ],
   "source": [
    "states.head()"
   ]
  },
  {
   "cell_type": "code",
   "execution_count": 6,
   "metadata": {},
   "outputs": [
    {
     "data": {
      "text/html": [
       "<div>\n",
       "<style scoped>\n",
       "    .dataframe tbody tr th:only-of-type {\n",
       "        vertical-align: middle;\n",
       "    }\n",
       "\n",
       "    .dataframe tbody tr th {\n",
       "        vertical-align: top;\n",
       "    }\n",
       "\n",
       "    .dataframe thead th {\n",
       "        text-align: right;\n",
       "    }\n",
       "</style>\n",
       "<table border=\"1\" class=\"dataframe\">\n",
       "  <thead>\n",
       "    <tr style=\"text-align: right;\">\n",
       "      <th></th>\n",
       "      <th>PRIMARY_KEY</th>\n",
       "      <th>STATE</th>\n",
       "      <th>YEAR</th>\n",
       "      <th>ENROLL</th>\n",
       "      <th>TOTAL_REVENUE</th>\n",
       "      <th>FEDERAL_REVENUE</th>\n",
       "      <th>STATE_REVENUE</th>\n",
       "      <th>LOCAL_REVENUE</th>\n",
       "      <th>TOTAL_EXPENDITURE</th>\n",
       "      <th>INSTRUCTION_EXPENDITURE</th>\n",
       "      <th>SUPPORT_SERVICES_EXPENDITURE</th>\n",
       "      <th>OTHER_EXPENDITURE</th>\n",
       "      <th>CAPITAL_OUTLAY_EXPENDITURE</th>\n",
       "    </tr>\n",
       "  </thead>\n",
       "  <tbody>\n",
       "    <tr>\n",
       "      <th>0</th>\n",
       "      <td>1992_ALABAMA</td>\n",
       "      <td>ALABAMA</td>\n",
       "      <td>1992</td>\n",
       "      <td>NaN</td>\n",
       "      <td>2678885</td>\n",
       "      <td>304177</td>\n",
       "      <td>1659028</td>\n",
       "      <td>715680</td>\n",
       "      <td>2653798</td>\n",
       "      <td>1481703</td>\n",
       "      <td>735036</td>\n",
       "      <td>NaN</td>\n",
       "      <td>174053</td>\n",
       "    </tr>\n",
       "    <tr>\n",
       "      <th>1</th>\n",
       "      <td>1992_ALASKA</td>\n",
       "      <td>ALASKA</td>\n",
       "      <td>1992</td>\n",
       "      <td>NaN</td>\n",
       "      <td>1049591</td>\n",
       "      <td>106780</td>\n",
       "      <td>720711</td>\n",
       "      <td>222100</td>\n",
       "      <td>972488</td>\n",
       "      <td>498362</td>\n",
       "      <td>350902</td>\n",
       "      <td>NaN</td>\n",
       "      <td>37451</td>\n",
       "    </tr>\n",
       "    <tr>\n",
       "      <th>2</th>\n",
       "      <td>1992_ARIZONA</td>\n",
       "      <td>ARIZONA</td>\n",
       "      <td>1992</td>\n",
       "      <td>NaN</td>\n",
       "      <td>3258079</td>\n",
       "      <td>297888</td>\n",
       "      <td>1369815</td>\n",
       "      <td>1590376</td>\n",
       "      <td>3401580</td>\n",
       "      <td>1435908</td>\n",
       "      <td>1007732</td>\n",
       "      <td>NaN</td>\n",
       "      <td>609114</td>\n",
       "    </tr>\n",
       "    <tr>\n",
       "      <th>3</th>\n",
       "      <td>1992_ARKANSAS</td>\n",
       "      <td>ARKANSAS</td>\n",
       "      <td>1992</td>\n",
       "      <td>NaN</td>\n",
       "      <td>1711959</td>\n",
       "      <td>178571</td>\n",
       "      <td>958785</td>\n",
       "      <td>574603</td>\n",
       "      <td>1743022</td>\n",
       "      <td>964323</td>\n",
       "      <td>483488</td>\n",
       "      <td>NaN</td>\n",
       "      <td>145212</td>\n",
       "    </tr>\n",
       "    <tr>\n",
       "      <th>4</th>\n",
       "      <td>1992_CALIFORNIA</td>\n",
       "      <td>CALIFORNIA</td>\n",
       "      <td>1992</td>\n",
       "      <td>NaN</td>\n",
       "      <td>26260025</td>\n",
       "      <td>2072470</td>\n",
       "      <td>16546514</td>\n",
       "      <td>7641041</td>\n",
       "      <td>27138832</td>\n",
       "      <td>14358922</td>\n",
       "      <td>8520926</td>\n",
       "      <td>NaN</td>\n",
       "      <td>2044688</td>\n",
       "    </tr>\n",
       "  </tbody>\n",
       "</table>\n",
       "</div>"
      ],
      "text/plain": [
       "       PRIMARY_KEY       STATE  YEAR  ENROLL  TOTAL_REVENUE  FEDERAL_REVENUE  \\\n",
       "0     1992_ALABAMA     ALABAMA  1992     NaN        2678885           304177   \n",
       "1      1992_ALASKA      ALASKA  1992     NaN        1049591           106780   \n",
       "2     1992_ARIZONA     ARIZONA  1992     NaN        3258079           297888   \n",
       "3    1992_ARKANSAS    ARKANSAS  1992     NaN        1711959           178571   \n",
       "4  1992_CALIFORNIA  CALIFORNIA  1992     NaN       26260025          2072470   \n",
       "\n",
       "   STATE_REVENUE  LOCAL_REVENUE  TOTAL_EXPENDITURE  INSTRUCTION_EXPENDITURE  \\\n",
       "0        1659028         715680            2653798                  1481703   \n",
       "1         720711         222100             972488                   498362   \n",
       "2        1369815        1590376            3401580                  1435908   \n",
       "3         958785         574603            1743022                   964323   \n",
       "4       16546514        7641041           27138832                 14358922   \n",
       "\n",
       "   SUPPORT_SERVICES_EXPENDITURE  OTHER_EXPENDITURE  CAPITAL_OUTLAY_EXPENDITURE  \n",
       "0                        735036                NaN                      174053  \n",
       "1                        350902                NaN                       37451  \n",
       "2                       1007732                NaN                      609114  \n",
       "3                        483488                NaN                      145212  \n",
       "4                       8520926                NaN                     2044688  "
      ]
     },
     "execution_count": 6,
     "metadata": {},
     "output_type": "execute_result"
    }
   ],
   "source": [
    "finances.head()"
   ]
  },
  {
   "cell_type": "code",
   "execution_count": 7,
   "metadata": {},
   "outputs": [
    {
     "data": {
      "text/plain": [
       "((1492, 193), (1326, 13))"
      ]
     },
     "execution_count": 7,
     "metadata": {},
     "output_type": "execute_result"
    }
   ],
   "source": [
    "states.shape, finances.shape"
   ]
  },
  {
   "cell_type": "markdown",
   "metadata": {},
   "source": [
    "## ***Update Data***"
   ]
  },
  {
   "cell_type": "markdown",
   "metadata": {},
   "source": [
    "### ***Merging Tail***"
   ]
  },
  {
   "cell_type": "markdown",
   "metadata": {},
   "source": [
    "* merging the tail of both dataframes before concating"
   ]
  },
  {
   "cell_type": "code",
   "execution_count": 8,
   "metadata": {},
   "outputs": [],
   "source": [
    "state_tail = pd.DataFrame(states.tail(51))\n",
    "finance_tail = pd.DataFrame(finances.tail(51)) #I just need the last 51 rows"
   ]
  },
  {
   "cell_type": "code",
   "execution_count": 9,
   "metadata": {},
   "outputs": [
    {
     "data": {
      "text/plain": [
       "((51, 193), (51, 13))"
      ]
     },
     "execution_count": 9,
     "metadata": {},
     "output_type": "execute_result"
    }
   ],
   "source": [
    "state_tail.shape, finance_tail.shape"
   ]
  },
  {
   "cell_type": "code",
   "execution_count": 10,
   "metadata": {},
   "outputs": [],
   "source": [
    "columns = ['ENROLL','TOTAL_REVENUE','FEDERAL_REVENUE',\n",
    "           'STATE_REVENUE','LOCAL_REVENUE','TOTAL_EXPENDITURE',\n",
    "           'INSTRUCTION_EXPENDITURE','SUPPORT_SERVICES_EXPENDITURE',\n",
    "           'OTHER_EXPENDITURE','CAPITAL_OUTLAY_EXPENDITURE']\n",
    "state_tail = state_tail.drop(columns=columns) #Dropping unnecessary columns from state_tail, so I do not have to do this later"
   ]
  },
  {
   "cell_type": "code",
   "execution_count": 11,
   "metadata": {},
   "outputs": [],
   "source": [
    "merge = pd.merge(finance_tail, state_tail, on=['PRIMARY_KEY','STATE', 'YEAR'])"
   ]
  },
  {
   "cell_type": "code",
   "execution_count": 12,
   "metadata": {},
   "outputs": [
    {
     "data": {
      "text/plain": [
       "(51, 193)"
      ]
     },
     "execution_count": 12,
     "metadata": {},
     "output_type": "execute_result"
    }
   ],
   "source": [
    "merge.shape"
   ]
  },
  {
   "cell_type": "code",
   "execution_count": 13,
   "metadata": {},
   "outputs": [
    {
     "data": {
      "text/html": [
       "<div>\n",
       "<style scoped>\n",
       "    .dataframe tbody tr th:only-of-type {\n",
       "        vertical-align: middle;\n",
       "    }\n",
       "\n",
       "    .dataframe tbody tr th {\n",
       "        vertical-align: top;\n",
       "    }\n",
       "\n",
       "    .dataframe thead th {\n",
       "        text-align: right;\n",
       "    }\n",
       "</style>\n",
       "<table border=\"1\" class=\"dataframe\">\n",
       "  <thead>\n",
       "    <tr style=\"text-align: right;\">\n",
       "      <th></th>\n",
       "      <th>PRIMARY_KEY</th>\n",
       "      <th>STATE</th>\n",
       "      <th>YEAR</th>\n",
       "      <th>ENROLL</th>\n",
       "      <th>TOTAL_REVENUE</th>\n",
       "      <th>FEDERAL_REVENUE</th>\n",
       "      <th>STATE_REVENUE</th>\n",
       "      <th>LOCAL_REVENUE</th>\n",
       "      <th>TOTAL_EXPENDITURE</th>\n",
       "      <th>INSTRUCTION_EXPENDITURE</th>\n",
       "      <th>...</th>\n",
       "      <th>GRADES_4_TRF</th>\n",
       "      <th>GRADES_8_TRF</th>\n",
       "      <th>GRADES_12_TRF</th>\n",
       "      <th>GRADES_1_8_TRF</th>\n",
       "      <th>GRADES_9_12_TRF</th>\n",
       "      <th>GRADES_ALL_TRF</th>\n",
       "      <th>AVG_MATH_4_SCORE</th>\n",
       "      <th>AVG_MATH_8_SCORE</th>\n",
       "      <th>AVG_READING_4_SCORE</th>\n",
       "      <th>AVG_READING_8_SCORE</th>\n",
       "    </tr>\n",
       "  </thead>\n",
       "  <tbody>\n",
       "    <tr>\n",
       "      <th>0</th>\n",
       "      <td>2017_ALABAMA</td>\n",
       "      <td>ALABAMA</td>\n",
       "      <td>2017</td>\n",
       "      <td>744930.0</td>\n",
       "      <td>7911674</td>\n",
       "      <td>811407</td>\n",
       "      <td>4350594</td>\n",
       "      <td>2749673</td>\n",
       "      <td>8031412</td>\n",
       "      <td>4046379</td>\n",
       "      <td>...</td>\n",
       "      <td>NaN</td>\n",
       "      <td>NaN</td>\n",
       "      <td>NaN</td>\n",
       "      <td>NaN</td>\n",
       "      <td>NaN</td>\n",
       "      <td>NaN</td>\n",
       "      <td>232.170688</td>\n",
       "      <td>268.312020</td>\n",
       "      <td>216.419814</td>\n",
       "      <td>257.686520</td>\n",
       "    </tr>\n",
       "    <tr>\n",
       "      <th>1</th>\n",
       "      <td>2017_ALASKA</td>\n",
       "      <td>ALASKA</td>\n",
       "      <td>2017</td>\n",
       "      <td>132737.0</td>\n",
       "      <td>2504501</td>\n",
       "      <td>350204</td>\n",
       "      <td>1600503</td>\n",
       "      <td>553794</td>\n",
       "      <td>2587060</td>\n",
       "      <td>1266077</td>\n",
       "      <td>...</td>\n",
       "      <td>NaN</td>\n",
       "      <td>NaN</td>\n",
       "      <td>NaN</td>\n",
       "      <td>NaN</td>\n",
       "      <td>NaN</td>\n",
       "      <td>NaN</td>\n",
       "      <td>230.456278</td>\n",
       "      <td>277.015572</td>\n",
       "      <td>207.037630</td>\n",
       "      <td>257.667497</td>\n",
       "    </tr>\n",
       "    <tr>\n",
       "      <th>2</th>\n",
       "      <td>2017_ARIZONA</td>\n",
       "      <td>ARIZONA</td>\n",
       "      <td>2017</td>\n",
       "      <td>936147.0</td>\n",
       "      <td>8677631</td>\n",
       "      <td>1178196</td>\n",
       "      <td>3446191</td>\n",
       "      <td>4053244</td>\n",
       "      <td>8389808</td>\n",
       "      <td>4081153</td>\n",
       "      <td>...</td>\n",
       "      <td>NaN</td>\n",
       "      <td>NaN</td>\n",
       "      <td>NaN</td>\n",
       "      <td>NaN</td>\n",
       "      <td>NaN</td>\n",
       "      <td>NaN</td>\n",
       "      <td>234.435788</td>\n",
       "      <td>282.248145</td>\n",
       "      <td>215.465952</td>\n",
       "      <td>262.957457</td>\n",
       "    </tr>\n",
       "    <tr>\n",
       "      <th>3</th>\n",
       "      <td>2017_ARKANSAS</td>\n",
       "      <td>ARKANSAS</td>\n",
       "      <td>2017</td>\n",
       "      <td>478996.0</td>\n",
       "      <td>5481422</td>\n",
       "      <td>597260</td>\n",
       "      <td>4137903</td>\n",
       "      <td>746259</td>\n",
       "      <td>5479899</td>\n",
       "      <td>2691959</td>\n",
       "      <td>...</td>\n",
       "      <td>NaN</td>\n",
       "      <td>NaN</td>\n",
       "      <td>NaN</td>\n",
       "      <td>NaN</td>\n",
       "      <td>NaN</td>\n",
       "      <td>NaN</td>\n",
       "      <td>233.848144</td>\n",
       "      <td>273.759907</td>\n",
       "      <td>216.108026</td>\n",
       "      <td>259.955798</td>\n",
       "    </tr>\n",
       "    <tr>\n",
       "      <th>4</th>\n",
       "      <td>2017_CALIFORNIA</td>\n",
       "      <td>CALIFORNIA</td>\n",
       "      <td>2017</td>\n",
       "      <td>6195344.0</td>\n",
       "      <td>91803968</td>\n",
       "      <td>7889546</td>\n",
       "      <td>51046506</td>\n",
       "      <td>32867916</td>\n",
       "      <td>90161939</td>\n",
       "      <td>44748095</td>\n",
       "      <td>...</td>\n",
       "      <td>NaN</td>\n",
       "      <td>NaN</td>\n",
       "      <td>NaN</td>\n",
       "      <td>NaN</td>\n",
       "      <td>NaN</td>\n",
       "      <td>NaN</td>\n",
       "      <td>232.262941</td>\n",
       "      <td>276.638200</td>\n",
       "      <td>215.421814</td>\n",
       "      <td>262.520630</td>\n",
       "    </tr>\n",
       "  </tbody>\n",
       "</table>\n",
       "<p>5 rows × 193 columns</p>\n",
       "</div>"
      ],
      "text/plain": [
       "       PRIMARY_KEY       STATE  YEAR     ENROLL  TOTAL_REVENUE  \\\n",
       "0     2017_ALABAMA     ALABAMA  2017   744930.0        7911674   \n",
       "1      2017_ALASKA      ALASKA  2017   132737.0        2504501   \n",
       "2     2017_ARIZONA     ARIZONA  2017   936147.0        8677631   \n",
       "3    2017_ARKANSAS    ARKANSAS  2017   478996.0        5481422   \n",
       "4  2017_CALIFORNIA  CALIFORNIA  2017  6195344.0       91803968   \n",
       "\n",
       "   FEDERAL_REVENUE  STATE_REVENUE  LOCAL_REVENUE  TOTAL_EXPENDITURE  \\\n",
       "0           811407        4350594        2749673            8031412   \n",
       "1           350204        1600503         553794            2587060   \n",
       "2          1178196        3446191        4053244            8389808   \n",
       "3           597260        4137903         746259            5479899   \n",
       "4          7889546       51046506       32867916           90161939   \n",
       "\n",
       "   INSTRUCTION_EXPENDITURE  ...  GRADES_4_TRF  GRADES_8_TRF  GRADES_12_TRF  \\\n",
       "0                  4046379  ...           NaN           NaN            NaN   \n",
       "1                  1266077  ...           NaN           NaN            NaN   \n",
       "2                  4081153  ...           NaN           NaN            NaN   \n",
       "3                  2691959  ...           NaN           NaN            NaN   \n",
       "4                 44748095  ...           NaN           NaN            NaN   \n",
       "\n",
       "   GRADES_1_8_TRF  GRADES_9_12_TRF  GRADES_ALL_TRF  AVG_MATH_4_SCORE  \\\n",
       "0             NaN              NaN             NaN        232.170688   \n",
       "1             NaN              NaN             NaN        230.456278   \n",
       "2             NaN              NaN             NaN        234.435788   \n",
       "3             NaN              NaN             NaN        233.848144   \n",
       "4             NaN              NaN             NaN        232.262941   \n",
       "\n",
       "   AVG_MATH_8_SCORE  AVG_READING_4_SCORE  AVG_READING_8_SCORE  \n",
       "0        268.312020           216.419814           257.686520  \n",
       "1        277.015572           207.037630           257.667497  \n",
       "2        282.248145           215.465952           262.957457  \n",
       "3        273.759907           216.108026           259.955798  \n",
       "4        276.638200           215.421814           262.520630  \n",
       "\n",
       "[5 rows x 193 columns]"
      ]
     },
     "execution_count": 13,
     "metadata": {},
     "output_type": "execute_result"
    }
   ],
   "source": [
    "merge.head()"
   ]
  },
  {
   "cell_type": "markdown",
   "metadata": {},
   "source": [
    "### ***Concatenating Data***"
   ]
  },
  {
   "cell_type": "code",
   "execution_count": 14,
   "metadata": {},
   "outputs": [],
   "source": [
    "head = states.head(1441)"
   ]
  },
  {
   "cell_type": "code",
   "execution_count": 15,
   "metadata": {},
   "outputs": [],
   "source": [
    "df = head.append(merge)"
   ]
  },
  {
   "cell_type": "markdown",
   "metadata": {},
   "source": [
    "# ***Choose your evaluation metric(s)***"
   ]
  },
  {
   "cell_type": "code",
   "execution_count": 16,
   "metadata": {},
   "outputs": [
    {
     "data": {
      "text/html": [
       "<div>\n",
       "<style scoped>\n",
       "    .dataframe tbody tr th:only-of-type {\n",
       "        vertical-align: middle;\n",
       "    }\n",
       "\n",
       "    .dataframe tbody tr th {\n",
       "        vertical-align: top;\n",
       "    }\n",
       "\n",
       "    .dataframe thead th {\n",
       "        text-align: right;\n",
       "    }\n",
       "</style>\n",
       "<table border=\"1\" class=\"dataframe\">\n",
       "  <thead>\n",
       "    <tr style=\"text-align: right;\">\n",
       "      <th></th>\n",
       "      <th>PRIMARY_KEY</th>\n",
       "      <th>STATE</th>\n",
       "      <th>AVG_MATH_4_SCORE</th>\n",
       "      <th>AVG_MATH_8_SCORE</th>\n",
       "      <th>AVG_READING_4_SCORE</th>\n",
       "      <th>AVG_READING_8_SCORE</th>\n",
       "    </tr>\n",
       "  </thead>\n",
       "  <tbody>\n",
       "    <tr>\n",
       "      <th>0</th>\n",
       "      <td>1992_ALABAMA</td>\n",
       "      <td>ALABAMA</td>\n",
       "      <td>208.327876</td>\n",
       "      <td>252.187522</td>\n",
       "      <td>207.963517</td>\n",
       "      <td>NaN</td>\n",
       "    </tr>\n",
       "    <tr>\n",
       "      <th>1</th>\n",
       "      <td>1992_ALASKA</td>\n",
       "      <td>ALASKA</td>\n",
       "      <td>NaN</td>\n",
       "      <td>NaN</td>\n",
       "      <td>NaN</td>\n",
       "      <td>258.859712</td>\n",
       "    </tr>\n",
       "    <tr>\n",
       "      <th>2</th>\n",
       "      <td>1992_ARIZONA</td>\n",
       "      <td>ARIZONA</td>\n",
       "      <td>215.253932</td>\n",
       "      <td>265.366278</td>\n",
       "      <td>206.212716</td>\n",
       "      <td>262.169895</td>\n",
       "    </tr>\n",
       "    <tr>\n",
       "      <th>3</th>\n",
       "      <td>1992_ARKANSAS</td>\n",
       "      <td>ARKANSAS</td>\n",
       "      <td>210.206028</td>\n",
       "      <td>256.312090</td>\n",
       "      <td>208.634458</td>\n",
       "      <td>264.619665</td>\n",
       "    </tr>\n",
       "    <tr>\n",
       "      <th>4</th>\n",
       "      <td>1992_CALIFORNIA</td>\n",
       "      <td>CALIFORNIA</td>\n",
       "      <td>208.398961</td>\n",
       "      <td>260.892247</td>\n",
       "      <td>196.764414</td>\n",
       "      <td>NaN</td>\n",
       "    </tr>\n",
       "  </tbody>\n",
       "</table>\n",
       "</div>"
      ],
      "text/plain": [
       "       PRIMARY_KEY       STATE  AVG_MATH_4_SCORE  AVG_MATH_8_SCORE  \\\n",
       "0     1992_ALABAMA     ALABAMA        208.327876        252.187522   \n",
       "1      1992_ALASKA      ALASKA               NaN               NaN   \n",
       "2     1992_ARIZONA     ARIZONA        215.253932        265.366278   \n",
       "3    1992_ARKANSAS    ARKANSAS        210.206028        256.312090   \n",
       "4  1992_CALIFORNIA  CALIFORNIA        208.398961        260.892247   \n",
       "\n",
       "   AVG_READING_4_SCORE  AVG_READING_8_SCORE  \n",
       "0           207.963517                  NaN  \n",
       "1                  NaN           258.859712  \n",
       "2           206.212716           262.169895  \n",
       "3           208.634458           264.619665  \n",
       "4           196.764414                  NaN  "
      ]
     },
     "execution_count": 16,
     "metadata": {},
     "output_type": "execute_result"
    }
   ],
   "source": [
    "target_df = df[['PRIMARY_KEY','STATE','AVG_MATH_4_SCORE', 'AVG_MATH_8_SCORE', 'AVG_READING_4_SCORE', 'AVG_READING_8_SCORE' ]].copy()\n",
    "target_df.head()"
   ]
  },
  {
   "cell_type": "markdown",
   "metadata": {},
   "source": [
    "Using 8th grade reading. Creating a classification class by grouping the scores into different categories. I think this will give more information then the numeric values."
   ]
  },
  {
   "cell_type": "markdown",
   "metadata": {},
   "source": [
    "Noticings: Unfortunately, the state scores are not very good for any of the states for any of the years. Most states, across both Math and Reading, have underperformed; only a small percentage scored proficient."
   ]
  },
  {
   "cell_type": "markdown",
   "metadata": {},
   "source": [
    "## 8th Grade Reading"
   ]
  },
  {
   "cell_type": "markdown",
   "metadata": {},
   "source": [
    "### ***Data Cleaning***"
   ]
  },
  {
   "cell_type": "code",
   "execution_count": 17,
   "metadata": {},
   "outputs": [],
   "source": [
    "#This code finds the mean by states and then fills in NaN values with that mean\n",
    "target_df['AVG_READING_8_SCORE'] = target_df.groupby('STATE')['AVG_READING_8_SCORE'].transform(lambda x: x.fillna(x.mean()))"
   ]
  },
  {
   "cell_type": "code",
   "execution_count": 18,
   "metadata": {},
   "outputs": [
    {
     "data": {
      "text/plain": [
       "161"
      ]
     },
     "execution_count": 18,
     "metadata": {},
     "output_type": "execute_result"
    }
   ],
   "source": [
    "target_df['AVG_READING_8_SCORE'].isnull().sum()"
   ]
  },
  {
   "cell_type": "code",
   "execution_count": 19,
   "metadata": {},
   "outputs": [
    {
     "data": {
      "text/plain": [
       "0     264\n",
       "1     258\n",
       "2     262\n",
       "3     264\n",
       "4     261\n",
       "     ... \n",
       "46    273\n",
       "47    267\n",
       "48    271\n",
       "49    258\n",
       "50    269\n",
       "Name: AVG_READING_8_SCORE, Length: 1492, dtype: int64"
      ]
     },
     "execution_count": 19,
     "metadata": {},
     "output_type": "execute_result"
    }
   ],
   "source": [
    "target_df['AVG_READING_8_SCORE'] = target_df['AVG_READING_8_SCORE'].fillna(0)\n",
    "target_df['AVG_READING_8_SCORE'] = target_df['AVG_READING_8_SCORE'].astype(int)\n",
    "target_df['AVG_READING_8_SCORE']"
   ]
  },
  {
   "cell_type": "code",
   "execution_count": 20,
   "metadata": {},
   "outputs": [
    {
     "data": {
      "text/plain": [
       "264    218\n",
       "263    191\n",
       "265    163\n",
       "0      161\n",
       "262    134\n",
       "261    117\n",
       "266    105\n",
       "260     70\n",
       "267     47\n",
       "259     35\n",
       "268     34\n",
       "269     32\n",
       "270     21\n",
       "257     19\n",
       "258     18\n",
       "272     14\n",
       "251     13\n",
       "255     12\n",
       "253     11\n",
       "254     10\n",
       "273      9\n",
       "271      9\n",
       "256      8\n",
       "274      7\n",
       "252      7\n",
       "250      6\n",
       "277      3\n",
       "275      3\n",
       "276      2\n",
       "247      2\n",
       "238      2\n",
       "242      2\n",
       "239      1\n",
       "236      1\n",
       "249      1\n",
       "240      1\n",
       "246      1\n",
       "248      1\n",
       "280      1\n",
       "Name: AVG_READING_8_SCORE, dtype: int64"
      ]
     },
     "execution_count": 20,
     "metadata": {},
     "output_type": "execute_result"
    }
   ],
   "source": [
    "target_df['AVG_READING_8_SCORE'].value_counts()"
   ]
  },
  {
   "cell_type": "code",
   "execution_count": 21,
   "metadata": {},
   "outputs": [
    {
     "data": {
      "text/plain": [
       "(0, 280)"
      ]
     },
     "execution_count": 21,
     "metadata": {},
     "output_type": "execute_result"
    }
   ],
   "source": [
    "min(target_df['AVG_READING_8_SCORE']), max(target_df['AVG_READING_8_SCORE'])"
   ]
  },
  {
   "cell_type": "markdown",
   "metadata": {},
   "source": [
    "NAEP Reading Score Breakdown\n",
    "- basic (0-280)\n",
    "> This column was broken down into 3 categories: \n",
    "> - low, \n",
    "> - mid, and \n",
    "> - high basic\n",
    "- proficient (281-322)\n",
    "- advanced (323-500)"
   ]
  },
  {
   "cell_type": "code",
   "execution_count": 22,
   "metadata": {},
   "outputs": [
    {
     "data": {
      "text/plain": [
       "0     2\n",
       "1     2\n",
       "2     2\n",
       "3     2\n",
       "4     2\n",
       "     ..\n",
       "46    3\n",
       "47    3\n",
       "48    3\n",
       "49    2\n",
       "50    3\n",
       "Name: READING_PROF_8, Length: 1492, dtype: int64"
      ]
     },
     "execution_count": 22,
     "metadata": {},
     "output_type": "execute_result"
    }
   ],
   "source": [
    "def proficiency(row):\n",
    "  #separating basic into 3 groups (0-281)\n",
    "    if 0< row['AVG_READING_8_SCORE'] < 240:\n",
    "        val = '1'\n",
    "    elif 240 <= row['AVG_READING_8_SCORE'] < 265:\n",
    "        val = '2'\n",
    "    elif 265 <= row['AVG_READING_8_SCORE'] < 281:\n",
    "        val = '3'\n",
    "    elif 281 <= row['AVG_READING_8_SCORE'] < 323:\n",
    "        val = '4'\n",
    "    elif row['AVG_READING_8_SCORE'] >= 323:\n",
    "        val = '5'\n",
    "    else:\n",
    "        val = 0\n",
    "    return val\n",
    "\n",
    "target_df['READING_PROF_8'] = target_df.apply(proficiency, axis=1)\n",
    "target_df['READING_PROF_8'].astype('int')"
   ]
  },
  {
   "cell_type": "code",
   "execution_count": 23,
   "metadata": {},
   "outputs": [
    {
     "data": {
      "text/plain": [
       "2    0.587802\n",
       "3    0.301609\n",
       "0    0.107909\n",
       "1    0.002681\n",
       "Name: READING_PROF_8, dtype: float64"
      ]
     },
     "execution_count": 23,
     "metadata": {},
     "output_type": "execute_result"
    }
   ],
   "source": [
    "target_df['READING_PROF_8'].value_counts(normalize=True)"
   ]
  },
  {
   "cell_type": "markdown",
   "metadata": {},
   "source": [
    "## 8th Grade Math"
   ]
  },
  {
   "cell_type": "markdown",
   "metadata": {},
   "source": [
    "### ***Data Cleaning***"
   ]
  },
  {
   "cell_type": "code",
   "execution_count": 24,
   "metadata": {},
   "outputs": [],
   "source": [
    "#This code finds the mean by states and then fills in NaN values with that mean\n",
    "target_df['AVG_MATH_8_SCORE'] = target_df.groupby('STATE')['AVG_MATH_8_SCORE'].transform(lambda x: x.fillna(x.mean()))"
   ]
  },
  {
   "cell_type": "code",
   "execution_count": 25,
   "metadata": {},
   "outputs": [
    {
     "data": {
      "text/plain": [
       "161"
      ]
     },
     "execution_count": 25,
     "metadata": {},
     "output_type": "execute_result"
    }
   ],
   "source": [
    "target_df['AVG_MATH_8_SCORE'].isnull().sum()"
   ]
  },
  {
   "cell_type": "code",
   "execution_count": 26,
   "metadata": {},
   "outputs": [
    {
     "data": {
      "text/plain": [
       "0     252\n",
       "1     280\n",
       "2     265\n",
       "3     256\n",
       "4     260\n",
       "     ... \n",
       "46    290\n",
       "47    289\n",
       "48    273\n",
       "49    288\n",
       "50    288\n",
       "Name: AVG_MATH_8_SCORE, Length: 1492, dtype: int64"
      ]
     },
     "execution_count": 26,
     "metadata": {},
     "output_type": "execute_result"
    }
   ],
   "source": [
    "target_df['AVG_MATH_8_SCORE'] = target_df['AVG_MATH_8_SCORE'].fillna(0)\n",
    "target_df['AVG_MATH_8_SCORE'] = target_df['AVG_MATH_8_SCORE'].astype(int)\n",
    "target_df['AVG_MATH_8_SCORE']"
   ]
  },
  {
   "cell_type": "code",
   "execution_count": 27,
   "metadata": {},
   "outputs": [
    {
     "data": {
      "text/plain": [
       "0      161\n",
       "283    115\n",
       "282    101\n",
       "280     72\n",
       "287     68\n",
       "273     60\n",
       "277     57\n",
       "288     55\n",
       "285     54\n",
       "284     54\n",
       "279     49\n",
       "275     47\n",
       "286     47\n",
       "274     46\n",
       "278     46\n",
       "270     45\n",
       "281     44\n",
       "269     40\n",
       "271     28\n",
       "289     27\n",
       "272     25\n",
       "262     25\n",
       "290     24\n",
       "266     24\n",
       "265     23\n",
       "291     23\n",
       "263     21\n",
       "250     18\n",
       "276     13\n",
       "268     11\n",
       "267      7\n",
       "292      6\n",
       "294      6\n",
       "259      5\n",
       "260      5\n",
       "264      4\n",
       "261      4\n",
       "293      4\n",
       "258      3\n",
       "256      2\n",
       "234      2\n",
       "252      2\n",
       "297      2\n",
       "253      2\n",
       "295      2\n",
       "298      2\n",
       "296      2\n",
       "254      1\n",
       "257      1\n",
       "249      1\n",
       "248      1\n",
       "246      1\n",
       "245      1\n",
       "243      1\n",
       "232      1\n",
       "300      1\n",
       "Name: AVG_MATH_8_SCORE, dtype: int64"
      ]
     },
     "execution_count": 27,
     "metadata": {},
     "output_type": "execute_result"
    }
   ],
   "source": [
    "target_df['AVG_MATH_8_SCORE'].value_counts()"
   ]
  },
  {
   "cell_type": "code",
   "execution_count": 28,
   "metadata": {},
   "outputs": [
    {
     "data": {
      "text/plain": [
       "(0, 300)"
      ]
     },
     "execution_count": 28,
     "metadata": {},
     "output_type": "execute_result"
    }
   ],
   "source": [
    "min(target_df['AVG_MATH_8_SCORE']), max(target_df['AVG_MATH_8_SCORE'])"
   ]
  },
  {
   "cell_type": "markdown",
   "metadata": {},
   "source": [
    "NAEP Math Score Breakdown\n",
    "- basic (0-298)\n",
    "> This column was broken down into 3 categories:\n",
    "> -  low, \n",
    "> - mid, and \n",
    "> - high basic\n",
    "- proficient (298-332)\n",
    "- advanced (333-500)"
   ]
  },
  {
   "cell_type": "code",
   "execution_count": 29,
   "metadata": {},
   "outputs": [
    {
     "data": {
      "text/plain": [
       "0     1\n",
       "1     3\n",
       "2     1\n",
       "3     1\n",
       "4     1\n",
       "     ..\n",
       "46    3\n",
       "47    3\n",
       "48    2\n",
       "49    3\n",
       "50    3\n",
       "Name: MATH_PROF_8, Length: 1492, dtype: int64"
      ]
     },
     "execution_count": 29,
     "metadata": {},
     "output_type": "execute_result"
    }
   ],
   "source": [
    "def proficiency(row):\n",
    "    if 0 < row['AVG_MATH_8_SCORE'] < 270:\n",
    "        val = '1'\n",
    "    elif 270 <= row['AVG_MATH_8_SCORE'] < 280:\n",
    "        val = '2 '\n",
    "    elif 280 <= row['AVG_MATH_8_SCORE'] < 299:\n",
    "        val = '3'    \n",
    "    elif 299 <= row['AVG_MATH_8_SCORE'] < 333:\n",
    "        val = '4'\n",
    "    elif row['AVG_MATH_8_SCORE'] >= 333:\n",
    "        val = '5'\n",
    "    else:\n",
    "        val = 0\n",
    "    return val\n",
    "\n",
    "target_df['MATH_PROF_8'] = target_df.apply(proficiency, axis=1)\n",
    "target_df['MATH_PROF_8'].astype('int')"
   ]
  },
  {
   "cell_type": "code",
   "execution_count": 30,
   "metadata": {},
   "outputs": [
    {
     "data": {
      "text/plain": [
       "3     0.474531\n",
       "2     0.278820\n",
       "1     0.138070\n",
       "0     0.107909\n",
       "4     0.000670\n",
       "Name: MATH_PROF_8, dtype: float64"
      ]
     },
     "execution_count": 30,
     "metadata": {},
     "output_type": "execute_result"
    }
   ],
   "source": [
    "target_df['MATH_PROF_8'].value_counts(normalize=True)"
   ]
  },
  {
   "cell_type": "markdown",
   "metadata": {},
   "source": [
    "# ***Target***"
   ]
  },
  {
   "cell_type": "markdown",
   "metadata": {},
   "source": [
    "Adding the two new engineered features back into the dataframe"
   ]
  },
  {
   "cell_type": "code",
   "execution_count": 31,
   "metadata": {},
   "outputs": [],
   "source": [
    "df = df.drop(columns = ['AVG_READING_8_SCORE', 'AVG_MATH_8_SCORE'])"
   ]
  },
  {
   "cell_type": "code",
   "execution_count": 32,
   "metadata": {},
   "outputs": [
    {
     "data": {
      "text/html": [
       "<div>\n",
       "<style scoped>\n",
       "    .dataframe tbody tr th:only-of-type {\n",
       "        vertical-align: middle;\n",
       "    }\n",
       "\n",
       "    .dataframe tbody tr th {\n",
       "        vertical-align: top;\n",
       "    }\n",
       "\n",
       "    .dataframe thead th {\n",
       "        text-align: right;\n",
       "    }\n",
       "</style>\n",
       "<table border=\"1\" class=\"dataframe\">\n",
       "  <thead>\n",
       "    <tr style=\"text-align: right;\">\n",
       "      <th></th>\n",
       "      <th>PRIMARY_KEY</th>\n",
       "      <th>STATE</th>\n",
       "      <th>YEAR</th>\n",
       "      <th>ENROLL</th>\n",
       "      <th>TOTAL_REVENUE</th>\n",
       "      <th>FEDERAL_REVENUE</th>\n",
       "      <th>STATE_REVENUE</th>\n",
       "      <th>LOCAL_REVENUE</th>\n",
       "      <th>TOTAL_EXPENDITURE</th>\n",
       "      <th>INSTRUCTION_EXPENDITURE</th>\n",
       "      <th>...</th>\n",
       "      <th>GRADES_12_TRF</th>\n",
       "      <th>GRADES_1_8_TRF</th>\n",
       "      <th>GRADES_9_12_TRF</th>\n",
       "      <th>GRADES_ALL_TRF</th>\n",
       "      <th>AVG_MATH_4_SCORE</th>\n",
       "      <th>AVG_READING_4_SCORE</th>\n",
       "      <th>AVG_READING_8_SCORE</th>\n",
       "      <th>AVG_MATH_8_SCORE</th>\n",
       "      <th>READING_PROF_8</th>\n",
       "      <th>MATH_PROF_8</th>\n",
       "    </tr>\n",
       "  </thead>\n",
       "  <tbody>\n",
       "    <tr>\n",
       "      <th>0</th>\n",
       "      <td>1992_ALABAMA</td>\n",
       "      <td>ALABAMA</td>\n",
       "      <td>1992</td>\n",
       "      <td>NaN</td>\n",
       "      <td>2678885.0</td>\n",
       "      <td>304177.0</td>\n",
       "      <td>1659028.0</td>\n",
       "      <td>715680.0</td>\n",
       "      <td>2653798.0</td>\n",
       "      <td>1481703.0</td>\n",
       "      <td>...</td>\n",
       "      <td>NaN</td>\n",
       "      <td>NaN</td>\n",
       "      <td>NaN</td>\n",
       "      <td>NaN</td>\n",
       "      <td>208.327876</td>\n",
       "      <td>207.963517</td>\n",
       "      <td>264</td>\n",
       "      <td>252</td>\n",
       "      <td>2</td>\n",
       "      <td>1</td>\n",
       "    </tr>\n",
       "    <tr>\n",
       "      <th>1</th>\n",
       "      <td>1992_ALASKA</td>\n",
       "      <td>ALASKA</td>\n",
       "      <td>1992</td>\n",
       "      <td>NaN</td>\n",
       "      <td>1049591.0</td>\n",
       "      <td>106780.0</td>\n",
       "      <td>720711.0</td>\n",
       "      <td>222100.0</td>\n",
       "      <td>972488.0</td>\n",
       "      <td>498362.0</td>\n",
       "      <td>...</td>\n",
       "      <td>NaN</td>\n",
       "      <td>NaN</td>\n",
       "      <td>NaN</td>\n",
       "      <td>NaN</td>\n",
       "      <td>NaN</td>\n",
       "      <td>NaN</td>\n",
       "      <td>258</td>\n",
       "      <td>280</td>\n",
       "      <td>2</td>\n",
       "      <td>3</td>\n",
       "    </tr>\n",
       "    <tr>\n",
       "      <th>2</th>\n",
       "      <td>1992_ARIZONA</td>\n",
       "      <td>ARIZONA</td>\n",
       "      <td>1992</td>\n",
       "      <td>NaN</td>\n",
       "      <td>3258079.0</td>\n",
       "      <td>297888.0</td>\n",
       "      <td>1369815.0</td>\n",
       "      <td>1590376.0</td>\n",
       "      <td>3401580.0</td>\n",
       "      <td>1435908.0</td>\n",
       "      <td>...</td>\n",
       "      <td>NaN</td>\n",
       "      <td>NaN</td>\n",
       "      <td>NaN</td>\n",
       "      <td>NaN</td>\n",
       "      <td>215.253932</td>\n",
       "      <td>206.212716</td>\n",
       "      <td>262</td>\n",
       "      <td>265</td>\n",
       "      <td>2</td>\n",
       "      <td>1</td>\n",
       "    </tr>\n",
       "    <tr>\n",
       "      <th>3</th>\n",
       "      <td>1992_ARKANSAS</td>\n",
       "      <td>ARKANSAS</td>\n",
       "      <td>1992</td>\n",
       "      <td>NaN</td>\n",
       "      <td>1711959.0</td>\n",
       "      <td>178571.0</td>\n",
       "      <td>958785.0</td>\n",
       "      <td>574603.0</td>\n",
       "      <td>1743022.0</td>\n",
       "      <td>964323.0</td>\n",
       "      <td>...</td>\n",
       "      <td>NaN</td>\n",
       "      <td>NaN</td>\n",
       "      <td>NaN</td>\n",
       "      <td>NaN</td>\n",
       "      <td>210.206028</td>\n",
       "      <td>208.634458</td>\n",
       "      <td>264</td>\n",
       "      <td>256</td>\n",
       "      <td>2</td>\n",
       "      <td>1</td>\n",
       "    </tr>\n",
       "    <tr>\n",
       "      <th>4</th>\n",
       "      <td>1992_CALIFORNIA</td>\n",
       "      <td>CALIFORNIA</td>\n",
       "      <td>1992</td>\n",
       "      <td>NaN</td>\n",
       "      <td>26260025.0</td>\n",
       "      <td>2072470.0</td>\n",
       "      <td>16546514.0</td>\n",
       "      <td>7641041.0</td>\n",
       "      <td>27138832.0</td>\n",
       "      <td>14358922.0</td>\n",
       "      <td>...</td>\n",
       "      <td>NaN</td>\n",
       "      <td>NaN</td>\n",
       "      <td>NaN</td>\n",
       "      <td>NaN</td>\n",
       "      <td>208.398961</td>\n",
       "      <td>196.764414</td>\n",
       "      <td>261</td>\n",
       "      <td>260</td>\n",
       "      <td>2</td>\n",
       "      <td>1</td>\n",
       "    </tr>\n",
       "  </tbody>\n",
       "</table>\n",
       "<p>5 rows × 195 columns</p>\n",
       "</div>"
      ],
      "text/plain": [
       "       PRIMARY_KEY       STATE  YEAR  ENROLL  TOTAL_REVENUE  FEDERAL_REVENUE  \\\n",
       "0     1992_ALABAMA     ALABAMA  1992     NaN      2678885.0         304177.0   \n",
       "1      1992_ALASKA      ALASKA  1992     NaN      1049591.0         106780.0   \n",
       "2     1992_ARIZONA     ARIZONA  1992     NaN      3258079.0         297888.0   \n",
       "3    1992_ARKANSAS    ARKANSAS  1992     NaN      1711959.0         178571.0   \n",
       "4  1992_CALIFORNIA  CALIFORNIA  1992     NaN     26260025.0        2072470.0   \n",
       "\n",
       "   STATE_REVENUE  LOCAL_REVENUE  TOTAL_EXPENDITURE  INSTRUCTION_EXPENDITURE  \\\n",
       "0      1659028.0       715680.0          2653798.0                1481703.0   \n",
       "1       720711.0       222100.0           972488.0                 498362.0   \n",
       "2      1369815.0      1590376.0          3401580.0                1435908.0   \n",
       "3       958785.0       574603.0          1743022.0                 964323.0   \n",
       "4     16546514.0      7641041.0         27138832.0               14358922.0   \n",
       "\n",
       "   ...  GRADES_12_TRF  GRADES_1_8_TRF  GRADES_9_12_TRF  GRADES_ALL_TRF  \\\n",
       "0  ...            NaN             NaN              NaN             NaN   \n",
       "1  ...            NaN             NaN              NaN             NaN   \n",
       "2  ...            NaN             NaN              NaN             NaN   \n",
       "3  ...            NaN             NaN              NaN             NaN   \n",
       "4  ...            NaN             NaN              NaN             NaN   \n",
       "\n",
       "   AVG_MATH_4_SCORE  AVG_READING_4_SCORE  AVG_READING_8_SCORE  \\\n",
       "0        208.327876           207.963517                  264   \n",
       "1               NaN                  NaN                  258   \n",
       "2        215.253932           206.212716                  262   \n",
       "3        210.206028           208.634458                  264   \n",
       "4        208.398961           196.764414                  261   \n",
       "\n",
       "   AVG_MATH_8_SCORE  READING_PROF_8  MATH_PROF_8  \n",
       "0               252               2            1  \n",
       "1               280               2            3  \n",
       "2               265               2            1  \n",
       "3               256               2            1  \n",
       "4               260               2            1  \n",
       "\n",
       "[5 rows x 195 columns]"
      ]
     },
     "execution_count": 32,
     "metadata": {},
     "output_type": "execute_result"
    }
   ],
   "source": [
    "df[['AVG_READING_8_SCORE', 'AVG_MATH_8_SCORE','READING_PROF_8', 'MATH_PROF_8']] = target_df[['AVG_READING_8_SCORE', 'AVG_MATH_8_SCORE','READING_PROF_8','MATH_PROF_8' ]].copy()\n",
    "df.head()"
   ]
  },
  {
   "cell_type": "code",
   "execution_count": 33,
   "metadata": {},
   "outputs": [],
   "source": [
    "df['READING_PROF_8'] = df['READING_PROF_8'].astype(int)\n",
    "df['MATH_PROF_8'] = df['MATH_PROF_8'].astype(int)"
   ]
  },
  {
   "cell_type": "code",
   "execution_count": 34,
   "metadata": {},
   "outputs": [
    {
     "data": {
      "text/plain": [
       "PRIMARY_KEY             object\n",
       "STATE                   object\n",
       "YEAR                     int64\n",
       "ENROLL                 float64\n",
       "TOTAL_REVENUE          float64\n",
       "                        ...   \n",
       "AVG_READING_4_SCORE    float64\n",
       "AVG_READING_8_SCORE      int64\n",
       "AVG_MATH_8_SCORE         int64\n",
       "READING_PROF_8           int64\n",
       "MATH_PROF_8              int64\n",
       "Length: 195, dtype: object"
      ]
     },
     "execution_count": 34,
     "metadata": {},
     "output_type": "execute_result"
    }
   ],
   "source": [
    "df.dtypes"
   ]
  },
  {
   "cell_type": "markdown",
   "metadata": {},
   "source": [
    "# ***Train/Val/Test***"
   ]
  },
  {
   "cell_type": "code",
   "execution_count": 35,
   "metadata": {},
   "outputs": [],
   "source": [
    "from sklearn.model_selection import train_test_split"
   ]
  },
  {
   "cell_type": "code",
   "execution_count": 36,
   "metadata": {},
   "outputs": [
    {
     "data": {
      "text/plain": [
       "((1219, 195), (273, 195))"
      ]
     },
     "execution_count": 36,
     "metadata": {},
     "output_type": "execute_result"
    }
   ],
   "source": [
    "train = df[df['YEAR'] < 2013]\n",
    "test = df[df['YEAR'] >= 2013]\n",
    "train.shape, test.shape"
   ]
  },
  {
   "cell_type": "code",
   "execution_count": 37,
   "metadata": {},
   "outputs": [
    {
     "data": {
      "text/plain": [
       "(1992, 2012)"
      ]
     },
     "execution_count": 37,
     "metadata": {},
     "output_type": "execute_result"
    }
   ],
   "source": [
    "min(train['YEAR']), max(train['YEAR'])"
   ]
  },
  {
   "cell_type": "code",
   "execution_count": 38,
   "metadata": {},
   "outputs": [
    {
     "data": {
      "text/plain": [
       "(2013, 2017)"
      ]
     },
     "execution_count": 38,
     "metadata": {},
     "output_type": "execute_result"
    }
   ],
   "source": [
    "min(test['YEAR']), max(test['YEAR'])"
   ]
  },
  {
   "cell_type": "code",
   "execution_count": 39,
   "metadata": {},
   "outputs": [
    {
     "data": {
      "text/plain": [
       "((731, 195), (488, 195), (273, 195))"
      ]
     },
     "execution_count": 39,
     "metadata": {},
     "output_type": "execute_result"
    }
   ],
   "source": [
    "train, val = train_test_split(\n",
    "    train, train_size=0.60, test_size=0.40,\n",
    "    stratify=train['READING_PROF_8'], \n",
    "    random_state=42\n",
    ")\n",
    "\n",
    "train.shape, val.shape, test.shape"
   ]
  },
  {
   "cell_type": "markdown",
   "metadata": {},
   "source": [
    "### ***Cleaning Data***"
   ]
  },
  {
   "cell_type": "markdown",
   "metadata": {},
   "source": [
    "TO DO:\n",
    "- There are several columns that do not have any data. \n",
    "\n",
    "**DROP**\n",
    "- primary key (this is just a combination of state and year\n",
    "- Since this model is trying to predict scores for each state, I will be dropping the years that do not have any recorded scores. \n",
    "- This data contains information for all 50 states, including Washington D.C, as well as US territories. Unfortunately, there is not information about expenditure for those columns, so that information will be dropped as well. \n",
    "- I will create a new dataframe which has the breakdown of demographics and then delete those columns from this dataframe. The demographics info was not captured until 2009, that will be too many np.nan values to use to build a useful model. \n",
    "\n"
   ]
  },
  {
   "cell_type": "code",
   "execution_count": 40,
   "metadata": {},
   "outputs": [
    {
     "data": {
      "text/plain": [
       "Index(['PRIMARY_KEY', 'STATE', 'YEAR', 'ENROLL', 'TOTAL_REVENUE',\n",
       "       'FEDERAL_REVENUE', 'STATE_REVENUE', 'LOCAL_REVENUE',\n",
       "       'TOTAL_EXPENDITURE', 'INSTRUCTION_EXPENDITURE',\n",
       "       ...\n",
       "       'GRADES_12_TRF', 'GRADES_1_8_TRF', 'GRADES_9_12_TRF', 'GRADES_ALL_TRF',\n",
       "       'AVG_MATH_4_SCORE', 'AVG_READING_4_SCORE', 'AVG_READING_8_SCORE',\n",
       "       'AVG_MATH_8_SCORE', 'READING_PROF_8', 'MATH_PROF_8'],\n",
       "      dtype='object', length=195)"
      ]
     },
     "execution_count": 40,
     "metadata": {},
     "output_type": "execute_result"
    }
   ],
   "source": [
    "train.columns"
   ]
  },
  {
   "cell_type": "markdown",
   "metadata": {},
   "source": [
    "### ***Feature Engineering***"
   ]
  },
  {
   "cell_type": "markdown",
   "metadata": {},
   "source": [
    "- For this dataset, I would delete the years where the NAEP test scores are not available since that does not give anything for me to train/validate/test the data on. The data is from 1992 - 2017. The NAEP only gives information for the years 1992, 1996, 2000, 2003, 2005, 2007, 2009, 2011, 2013, 2015, 2017. ✓\n",
    "- I will also delete the years where I do not have the finacial information available ✓\n",
    "- I am using information from the consumer price index to create new columns that adjust revenue and expenditures to reflect inflation ✓\n",
    "https://www.usinflationcalculator.com/inflation/consumer-price-index-and-annual-percent-changes-from-1913-to-2008/\n",
    " * https://www.usinflationcalculator.com/frequently-asked-questions-faqs/#HowInflationCalculatorWorks\n",
    "- look at %of total revenue spent on education✓\n",
    "- look at % of total expenditure spent on instruction, support other, and capital outlay✓"
   ]
  },
  {
   "cell_type": "markdown",
   "metadata": {},
   "source": [
    "#### State Averages\n",
    "* replacing nulls with state averages"
   ]
  },
  {
   "cell_type": "code",
   "execution_count": 41,
   "metadata": {},
   "outputs": [
    {
     "data": {
      "text/html": [
       "<div>\n",
       "<style scoped>\n",
       "    .dataframe tbody tr th:only-of-type {\n",
       "        vertical-align: middle;\n",
       "    }\n",
       "\n",
       "    .dataframe tbody tr th {\n",
       "        vertical-align: top;\n",
       "    }\n",
       "\n",
       "    .dataframe thead th {\n",
       "        text-align: right;\n",
       "    }\n",
       "</style>\n",
       "<table border=\"1\" class=\"dataframe\">\n",
       "  <thead>\n",
       "    <tr style=\"text-align: right;\">\n",
       "      <th></th>\n",
       "      <th>YEAR</th>\n",
       "      <th>ENROLL</th>\n",
       "      <th>TOTAL_REVENUE</th>\n",
       "      <th>FEDERAL_REVENUE</th>\n",
       "      <th>STATE_REVENUE</th>\n",
       "      <th>LOCAL_REVENUE</th>\n",
       "      <th>TOTAL_EXPENDITURE</th>\n",
       "      <th>INSTRUCTION_EXPENDITURE</th>\n",
       "      <th>SUPPORT_SERVICES_EXPENDITURE</th>\n",
       "      <th>OTHER_EXPENDITURE</th>\n",
       "      <th>...</th>\n",
       "      <th>GRADES_12_TRF</th>\n",
       "      <th>GRADES_1_8_TRF</th>\n",
       "      <th>GRADES_9_12_TRF</th>\n",
       "      <th>GRADES_ALL_TRF</th>\n",
       "      <th>AVG_MATH_4_SCORE</th>\n",
       "      <th>AVG_READING_4_SCORE</th>\n",
       "      <th>AVG_READING_8_SCORE</th>\n",
       "      <th>AVG_MATH_8_SCORE</th>\n",
       "      <th>READING_PROF_8</th>\n",
       "      <th>MATH_PROF_8</th>\n",
       "    </tr>\n",
       "    <tr>\n",
       "      <th>STATE</th>\n",
       "      <th></th>\n",
       "      <th></th>\n",
       "      <th></th>\n",
       "      <th></th>\n",
       "      <th></th>\n",
       "      <th></th>\n",
       "      <th></th>\n",
       "      <th></th>\n",
       "      <th></th>\n",
       "      <th></th>\n",
       "      <th></th>\n",
       "      <th></th>\n",
       "      <th></th>\n",
       "      <th></th>\n",
       "      <th></th>\n",
       "      <th></th>\n",
       "      <th></th>\n",
       "      <th></th>\n",
       "      <th></th>\n",
       "      <th></th>\n",
       "      <th></th>\n",
       "    </tr>\n",
       "  </thead>\n",
       "  <tbody>\n",
       "    <tr>\n",
       "      <th>ALABAMA</th>\n",
       "      <td>2003.000000</td>\n",
       "      <td>734240.800000</td>\n",
       "      <td>5.446486e+06</td>\n",
       "      <td>570676.600000</td>\n",
       "      <td>3.145272e+06</td>\n",
       "      <td>1.730538e+06</td>\n",
       "      <td>5.621716e+06</td>\n",
       "      <td>2.903695e+06</td>\n",
       "      <td>1.615876e+06</td>\n",
       "      <td>450754.200000</td>\n",
       "      <td>...</td>\n",
       "      <td>NaN</td>\n",
       "      <td>NaN</td>\n",
       "      <td>NaN</td>\n",
       "      <td>NaN</td>\n",
       "      <td>226.224637</td>\n",
       "      <td>211.874548</td>\n",
       "      <td>265.000000</td>\n",
       "      <td>263.500000</td>\n",
       "      <td>2.300000</td>\n",
       "      <td>1.000000</td>\n",
       "    </tr>\n",
       "    <tr>\n",
       "      <th>ALASKA</th>\n",
       "      <td>2002.916667</td>\n",
       "      <td>130564.916667</td>\n",
       "      <td>1.575220e+06</td>\n",
       "      <td>244759.666667</td>\n",
       "      <td>9.447525e+05</td>\n",
       "      <td>3.857078e+05</td>\n",
       "      <td>1.703918e+06</td>\n",
       "      <td>8.331643e+05</td>\n",
       "      <td>5.680875e+05</td>\n",
       "      <td>53843.583333</td>\n",
       "      <td>...</td>\n",
       "      <td>250.0</td>\n",
       "      <td>2792.0</td>\n",
       "      <td>1078.0</td>\n",
       "      <td>3950.0</td>\n",
       "      <td>233.364398</td>\n",
       "      <td>212.053199</td>\n",
       "      <td>263.250000</td>\n",
       "      <td>279.916667</td>\n",
       "      <td>2.250000</td>\n",
       "      <td>2.750000</td>\n",
       "    </tr>\n",
       "    <tr>\n",
       "      <th>AMERICAN_SAMOA</th>\n",
       "      <td>2001.666667</td>\n",
       "      <td>NaN</td>\n",
       "      <td>NaN</td>\n",
       "      <td>NaN</td>\n",
       "      <td>NaN</td>\n",
       "      <td>NaN</td>\n",
       "      <td>NaN</td>\n",
       "      <td>NaN</td>\n",
       "      <td>NaN</td>\n",
       "      <td>NaN</td>\n",
       "      <td>...</td>\n",
       "      <td>NaN</td>\n",
       "      <td>NaN</td>\n",
       "      <td>NaN</td>\n",
       "      <td>NaN</td>\n",
       "      <td>NaN</td>\n",
       "      <td>NaN</td>\n",
       "      <td>0.000000</td>\n",
       "      <td>0.000000</td>\n",
       "      <td>0.000000</td>\n",
       "      <td>0.000000</td>\n",
       "    </tr>\n",
       "    <tr>\n",
       "      <th>ARIZONA</th>\n",
       "      <td>2000.615385</td>\n",
       "      <td>845247.750000</td>\n",
       "      <td>5.844787e+06</td>\n",
       "      <td>626933.769231</td>\n",
       "      <td>2.571066e+06</td>\n",
       "      <td>2.646787e+06</td>\n",
       "      <td>5.902011e+06</td>\n",
       "      <td>2.670232e+06</td>\n",
       "      <td>1.772767e+06</td>\n",
       "      <td>299930.833333</td>\n",
       "      <td>...</td>\n",
       "      <td>536.0</td>\n",
       "      <td>6501.0</td>\n",
       "      <td>2596.0</td>\n",
       "      <td>9155.0</td>\n",
       "      <td>223.641870</td>\n",
       "      <td>207.351466</td>\n",
       "      <td>262.307692</td>\n",
       "      <td>273.538462</td>\n",
       "      <td>2.000000</td>\n",
       "      <td>1.846154</td>\n",
       "    </tr>\n",
       "    <tr>\n",
       "      <th>ARKANSAS</th>\n",
       "      <td>1999.400000</td>\n",
       "      <td>425338.444444</td>\n",
       "      <td>2.772076e+06</td>\n",
       "      <td>310297.300000</td>\n",
       "      <td>1.898067e+06</td>\n",
       "      <td>5.637117e+05</td>\n",
       "      <td>2.872991e+06</td>\n",
       "      <td>1.498985e+06</td>\n",
       "      <td>8.314015e+05</td>\n",
       "      <td>226448.111111</td>\n",
       "      <td>...</td>\n",
       "      <td>153.0</td>\n",
       "      <td>1799.5</td>\n",
       "      <td>687.0</td>\n",
       "      <td>2548.5</td>\n",
       "      <td>220.163981</td>\n",
       "      <td>211.626388</td>\n",
       "      <td>265.000000</td>\n",
       "      <td>267.300000</td>\n",
       "      <td>2.300000</td>\n",
       "      <td>1.700000</td>\n",
       "    </tr>\n",
       "    <tr>\n",
       "      <th>...</th>\n",
       "      <td>...</td>\n",
       "      <td>...</td>\n",
       "      <td>...</td>\n",
       "      <td>...</td>\n",
       "      <td>...</td>\n",
       "      <td>...</td>\n",
       "      <td>...</td>\n",
       "      <td>...</td>\n",
       "      <td>...</td>\n",
       "      <td>...</td>\n",
       "      <td>...</td>\n",
       "      <td>...</td>\n",
       "      <td>...</td>\n",
       "      <td>...</td>\n",
       "      <td>...</td>\n",
       "      <td>...</td>\n",
       "      <td>...</td>\n",
       "      <td>...</td>\n",
       "      <td>...</td>\n",
       "      <td>...</td>\n",
       "      <td>...</td>\n",
       "    </tr>\n",
       "    <tr>\n",
       "      <th>VIRGIN_ISLANDS</th>\n",
       "      <td>1999.222222</td>\n",
       "      <td>NaN</td>\n",
       "      <td>NaN</td>\n",
       "      <td>NaN</td>\n",
       "      <td>NaN</td>\n",
       "      <td>NaN</td>\n",
       "      <td>NaN</td>\n",
       "      <td>NaN</td>\n",
       "      <td>NaN</td>\n",
       "      <td>NaN</td>\n",
       "      <td>...</td>\n",
       "      <td>NaN</td>\n",
       "      <td>NaN</td>\n",
       "      <td>NaN</td>\n",
       "      <td>NaN</td>\n",
       "      <td>NaN</td>\n",
       "      <td>NaN</td>\n",
       "      <td>0.000000</td>\n",
       "      <td>0.000000</td>\n",
       "      <td>0.000000</td>\n",
       "      <td>0.000000</td>\n",
       "    </tr>\n",
       "    <tr>\n",
       "      <th>WASHINGTON</th>\n",
       "      <td>2000.800000</td>\n",
       "      <td>989531.400000</td>\n",
       "      <td>8.040462e+06</td>\n",
       "      <td>611588.533333</td>\n",
       "      <td>5.108409e+06</td>\n",
       "      <td>2.320465e+06</td>\n",
       "      <td>8.274374e+06</td>\n",
       "      <td>4.051430e+06</td>\n",
       "      <td>2.389421e+06</td>\n",
       "      <td>360961.666667</td>\n",
       "      <td>...</td>\n",
       "      <td>1357.0</td>\n",
       "      <td>15164.0</td>\n",
       "      <td>6319.0</td>\n",
       "      <td>21650.0</td>\n",
       "      <td>235.296123</td>\n",
       "      <td>221.399733</td>\n",
       "      <td>264.933333</td>\n",
       "      <td>284.066667</td>\n",
       "      <td>2.933333</td>\n",
       "      <td>2.933333</td>\n",
       "    </tr>\n",
       "    <tr>\n",
       "      <th>WEST_VIRGINIA</th>\n",
       "      <td>2002.272727</td>\n",
       "      <td>290657.636364</td>\n",
       "      <td>2.547078e+06</td>\n",
       "      <td>265345.000000</td>\n",
       "      <td>1.506213e+06</td>\n",
       "      <td>7.755195e+05</td>\n",
       "      <td>2.505726e+06</td>\n",
       "      <td>1.403144e+06</td>\n",
       "      <td>7.643409e+05</td>\n",
       "      <td>164292.545455</td>\n",
       "      <td>...</td>\n",
       "      <td>32.0</td>\n",
       "      <td>850.0</td>\n",
       "      <td>162.5</td>\n",
       "      <td>1171.5</td>\n",
       "      <td>228.558518</td>\n",
       "      <td>216.737567</td>\n",
       "      <td>263.818182</td>\n",
       "      <td>268.818182</td>\n",
       "      <td>2.727273</td>\n",
       "      <td>1.272727</td>\n",
       "    </tr>\n",
       "    <tr>\n",
       "      <th>WISCONSIN</th>\n",
       "      <td>2002.615385</td>\n",
       "      <td>865652.153846</td>\n",
       "      <td>8.655320e+06</td>\n",
       "      <td>563779.076923</td>\n",
       "      <td>4.169163e+06</td>\n",
       "      <td>3.922378e+06</td>\n",
       "      <td>8.678507e+06</td>\n",
       "      <td>4.664785e+06</td>\n",
       "      <td>2.642839e+06</td>\n",
       "      <td>337458.461538</td>\n",
       "      <td>...</td>\n",
       "      <td>404.0</td>\n",
       "      <td>4742.5</td>\n",
       "      <td>1774.0</td>\n",
       "      <td>7224.5</td>\n",
       "      <td>239.936725</td>\n",
       "      <td>222.241252</td>\n",
       "      <td>262.692308</td>\n",
       "      <td>284.923077</td>\n",
       "      <td>2.076923</td>\n",
       "      <td>3.000000</td>\n",
       "    </tr>\n",
       "    <tr>\n",
       "      <th>WYOMING</th>\n",
       "      <td>2000.300000</td>\n",
       "      <td>93091.300000</td>\n",
       "      <td>9.016033e+05</td>\n",
       "      <td>74242.500000</td>\n",
       "      <td>4.538004e+05</td>\n",
       "      <td>3.735604e+05</td>\n",
       "      <td>8.837627e+05</td>\n",
       "      <td>4.604522e+05</td>\n",
       "      <td>2.782458e+05</td>\n",
       "      <td>28063.100000</td>\n",
       "      <td>...</td>\n",
       "      <td>39.0</td>\n",
       "      <td>527.0</td>\n",
       "      <td>202.0</td>\n",
       "      <td>731.0</td>\n",
       "      <td>236.052046</td>\n",
       "      <td>221.716075</td>\n",
       "      <td>262.000000</td>\n",
       "      <td>282.500000</td>\n",
       "      <td>2.100000</td>\n",
       "      <td>2.900000</td>\n",
       "    </tr>\n",
       "  </tbody>\n",
       "</table>\n",
       "<p>75 rows × 193 columns</p>\n",
       "</div>"
      ],
      "text/plain": [
       "                       YEAR         ENROLL  TOTAL_REVENUE  FEDERAL_REVENUE  \\\n",
       "STATE                                                                        \n",
       "ALABAMA         2003.000000  734240.800000   5.446486e+06    570676.600000   \n",
       "ALASKA          2002.916667  130564.916667   1.575220e+06    244759.666667   \n",
       "AMERICAN_SAMOA  2001.666667            NaN            NaN              NaN   \n",
       "ARIZONA         2000.615385  845247.750000   5.844787e+06    626933.769231   \n",
       "ARKANSAS        1999.400000  425338.444444   2.772076e+06    310297.300000   \n",
       "...                     ...            ...            ...              ...   \n",
       "VIRGIN_ISLANDS  1999.222222            NaN            NaN              NaN   \n",
       "WASHINGTON      2000.800000  989531.400000   8.040462e+06    611588.533333   \n",
       "WEST_VIRGINIA   2002.272727  290657.636364   2.547078e+06    265345.000000   \n",
       "WISCONSIN       2002.615385  865652.153846   8.655320e+06    563779.076923   \n",
       "WYOMING         2000.300000   93091.300000   9.016033e+05     74242.500000   \n",
       "\n",
       "                STATE_REVENUE  LOCAL_REVENUE  TOTAL_EXPENDITURE  \\\n",
       "STATE                                                             \n",
       "ALABAMA          3.145272e+06   1.730538e+06       5.621716e+06   \n",
       "ALASKA           9.447525e+05   3.857078e+05       1.703918e+06   \n",
       "AMERICAN_SAMOA            NaN            NaN                NaN   \n",
       "ARIZONA          2.571066e+06   2.646787e+06       5.902011e+06   \n",
       "ARKANSAS         1.898067e+06   5.637117e+05       2.872991e+06   \n",
       "...                       ...            ...                ...   \n",
       "VIRGIN_ISLANDS            NaN            NaN                NaN   \n",
       "WASHINGTON       5.108409e+06   2.320465e+06       8.274374e+06   \n",
       "WEST_VIRGINIA    1.506213e+06   7.755195e+05       2.505726e+06   \n",
       "WISCONSIN        4.169163e+06   3.922378e+06       8.678507e+06   \n",
       "WYOMING          4.538004e+05   3.735604e+05       8.837627e+05   \n",
       "\n",
       "                INSTRUCTION_EXPENDITURE  SUPPORT_SERVICES_EXPENDITURE  \\\n",
       "STATE                                                                   \n",
       "ALABAMA                    2.903695e+06                  1.615876e+06   \n",
       "ALASKA                     8.331643e+05                  5.680875e+05   \n",
       "AMERICAN_SAMOA                      NaN                           NaN   \n",
       "ARIZONA                    2.670232e+06                  1.772767e+06   \n",
       "ARKANSAS                   1.498985e+06                  8.314015e+05   \n",
       "...                                 ...                           ...   \n",
       "VIRGIN_ISLANDS                      NaN                           NaN   \n",
       "WASHINGTON                 4.051430e+06                  2.389421e+06   \n",
       "WEST_VIRGINIA              1.403144e+06                  7.643409e+05   \n",
       "WISCONSIN                  4.664785e+06                  2.642839e+06   \n",
       "WYOMING                    4.604522e+05                  2.782458e+05   \n",
       "\n",
       "                OTHER_EXPENDITURE  ...  GRADES_12_TRF  GRADES_1_8_TRF  \\\n",
       "STATE                              ...                                  \n",
       "ALABAMA             450754.200000  ...            NaN             NaN   \n",
       "ALASKA               53843.583333  ...          250.0          2792.0   \n",
       "AMERICAN_SAMOA                NaN  ...            NaN             NaN   \n",
       "ARIZONA             299930.833333  ...          536.0          6501.0   \n",
       "ARKANSAS            226448.111111  ...          153.0          1799.5   \n",
       "...                           ...  ...            ...             ...   \n",
       "VIRGIN_ISLANDS                NaN  ...            NaN             NaN   \n",
       "WASHINGTON          360961.666667  ...         1357.0         15164.0   \n",
       "WEST_VIRGINIA       164292.545455  ...           32.0           850.0   \n",
       "WISCONSIN           337458.461538  ...          404.0          4742.5   \n",
       "WYOMING              28063.100000  ...           39.0           527.0   \n",
       "\n",
       "                GRADES_9_12_TRF  GRADES_ALL_TRF  AVG_MATH_4_SCORE  \\\n",
       "STATE                                                               \n",
       "ALABAMA                     NaN             NaN        226.224637   \n",
       "ALASKA                   1078.0          3950.0        233.364398   \n",
       "AMERICAN_SAMOA              NaN             NaN               NaN   \n",
       "ARIZONA                  2596.0          9155.0        223.641870   \n",
       "ARKANSAS                  687.0          2548.5        220.163981   \n",
       "...                         ...             ...               ...   \n",
       "VIRGIN_ISLANDS              NaN             NaN               NaN   \n",
       "WASHINGTON               6319.0         21650.0        235.296123   \n",
       "WEST_VIRGINIA             162.5          1171.5        228.558518   \n",
       "WISCONSIN                1774.0          7224.5        239.936725   \n",
       "WYOMING                   202.0           731.0        236.052046   \n",
       "\n",
       "                AVG_READING_4_SCORE  AVG_READING_8_SCORE  AVG_MATH_8_SCORE  \\\n",
       "STATE                                                                        \n",
       "ALABAMA                  211.874548           265.000000        263.500000   \n",
       "ALASKA                   212.053199           263.250000        279.916667   \n",
       "AMERICAN_SAMOA                  NaN             0.000000          0.000000   \n",
       "ARIZONA                  207.351466           262.307692        273.538462   \n",
       "ARKANSAS                 211.626388           265.000000        267.300000   \n",
       "...                             ...                  ...               ...   \n",
       "VIRGIN_ISLANDS                  NaN             0.000000          0.000000   \n",
       "WASHINGTON               221.399733           264.933333        284.066667   \n",
       "WEST_VIRGINIA            216.737567           263.818182        268.818182   \n",
       "WISCONSIN                222.241252           262.692308        284.923077   \n",
       "WYOMING                  221.716075           262.000000        282.500000   \n",
       "\n",
       "                READING_PROF_8  MATH_PROF_8  \n",
       "STATE                                        \n",
       "ALABAMA               2.300000     1.000000  \n",
       "ALASKA                2.250000     2.750000  \n",
       "AMERICAN_SAMOA        0.000000     0.000000  \n",
       "ARIZONA               2.000000     1.846154  \n",
       "ARKANSAS              2.300000     1.700000  \n",
       "...                        ...          ...  \n",
       "VIRGIN_ISLANDS        0.000000     0.000000  \n",
       "WASHINGTON            2.933333     2.933333  \n",
       "WEST_VIRGINIA         2.727273     1.272727  \n",
       "WISCONSIN             2.076923     3.000000  \n",
       "WYOMING               2.100000     2.900000  \n",
       "\n",
       "[75 rows x 193 columns]"
      ]
     },
     "execution_count": 41,
     "metadata": {},
     "output_type": "execute_result"
    }
   ],
   "source": [
    "train.groupby('STATE').mean()"
   ]
  },
  {
   "cell_type": "markdown",
   "metadata": {},
   "source": [
    "#### Adjustment for Inflation\n",
    "I am using information from the consumer price index to create new columns that adjust expenditures to reflect inflation ✓\n",
    "* https://www.usinflationcalculator.com/inflation/consumer-price-index-and-annual-percent-changes-from-1913-to-2008/\n",
    "* https://www.usinflationcalculator.com/frequently-asked-questions-faqs/#HowInflationCalculatorWorks"
   ]
  },
  {
   "cell_type": "code",
   "execution_count": 42,
   "metadata": {},
   "outputs": [],
   "source": [
    "import numpy as np"
   ]
  },
  {
   "cell_type": "code",
   "execution_count": 43,
   "metadata": {},
   "outputs": [],
   "source": [
    "cpi = {1992: 140.3,\n",
    "       1993: 144.5,\n",
    "       1994: 148.2,\n",
    "       1995: 152.4,\n",
    "       1996: 156.9,\n",
    "       1997: 160.5,\n",
    "       1998: 163.0,\n",
    "       1999: 166.6,\n",
    "       2000: 172.2,\n",
    "       2001: 177.1,\n",
    "       2002: 179.9,\n",
    "       2003: 184.0,\n",
    "       2004: 188.9,\n",
    "       2005: 195.3,\n",
    "       2006: 201.6,\n",
    "       2007: 207.3,\n",
    "       2008: 215.303,\n",
    "       2009: 214.537,\n",
    "       2010: 218.056,\n",
    "       2011: 224.939,\n",
    "       2012: 229.594,\n",
    "       2013: 232.957,\n",
    "       2014: 236.736,\n",
    "       2015: 237.017,\n",
    "       2016: 240.007,\n",
    "       2017: 245.120,\n",
    "       2018: 251.107,\n",
    "       2019: 255.657}"
   ]
  },
  {
   "cell_type": "code",
   "execution_count": 44,
   "metadata": {},
   "outputs": [
    {
     "name": "stdout",
     "output_type": "stream",
     "text": [
      "255.657\n"
     ]
    }
   ],
   "source": [
    "baseline_year = 2019\n",
    "baseline_inflation = cpi[baseline_year]\n",
    "print(baseline_inflation)"
   ]
  },
  {
   "cell_type": "code",
   "execution_count": 45,
   "metadata": {},
   "outputs": [],
   "source": [
    "def inflation_adjustment(row, baseline_inflation, src):\n",
    "    return row[src] * (baseline_inflation/ cpi[row['YEAR']])"
   ]
  },
  {
   "cell_type": "markdown",
   "metadata": {},
   "source": [
    "### ***Wrangle***"
   ]
  },
  {
   "cell_type": "code",
   "execution_count": 46,
   "metadata": {},
   "outputs": [],
   "source": [
    "import numpy as np"
   ]
  },
  {
   "cell_type": "code",
   "execution_count": 47,
   "metadata": {},
   "outputs": [],
   "source": [
    "def wrangle(X):\n",
    "    # Prevent SettingWithCopyWarning\n",
    "    X = X.copy()\n",
    "\n",
    "    X = X.replace (0, np.NaN)\n",
    "\n",
    "    # When columns have zeros and shouldn't, they are like null values.\n",
    "    # So we will replace the zeros with nulls, and impute missing values later.\n",
    "    cols_with_zeros = ['AVG_MATH_8_SCORE','AVG_READING_8_SCORE']\n",
    "    for col in cols_with_zeros:\n",
    "        X[col] = X[col].replace(0, np.nan)\n",
    "\n",
    "    #Dropping rows if they do not contain any score data, will not drop if there is just 1 value\n",
    "    X = X.dropna(axis=0, subset=['AVG_MATH_4_SCORE', 'AVG_MATH_8_SCORE', 'AVG_READING_4_SCORE', 'AVG_READING_8_SCORE'], how = 'any')\n",
    "\n",
    "    #Dropping rows that do not contain any financial information\n",
    "    X = X.dropna(axis=0, subset = ['TOTAL_REVENUE','FEDERAL_REVENUE','STATE_REVENUE','LOCAL_REVENUE','TOTAL_EXPENDITURE'], how = 'all')\n",
    "\n",
    "    #Dropping columns\n",
    "    #Primary Key is just State and Year\n",
    "    #Dropping breakdown of demographics into male/female because this does not start to get recorded until 2009\n",
    "    drop = ['PRIMARY_KEY',\n",
    "            'GRADES_PK_HP','GRADES_KG_HP','GRADES_4_HP','GRADES_8_HP','GRADES_12_HP', 'GRADES_1_8_HP', 'GRADES_9_12_HP', 'GRADES_ALL_HP',\n",
    "            'GRADES_PK_TR','GRADES_KG_TR','GRADES_4_TR','GRADES_8_TR','GRADES_12_TR', 'GRADES_1_8_TR', 'GRADES_9_12_TR', 'GRADES_ALL_TR',\n",
    "            'GRADES_PK_AMM','GRADES_KG_AMM','GRADES_4_AMM','GRADES_8_AMM','GRADES_12_AMM', 'GRADES_1_8_AMM', 'GRADES_9_12_AMM', 'GRADES_ALL_AMM',\n",
    "            'GRADES_PK_AMF','GRADES_KG_AMF','GRADES_4_AMF','GRADES_8_AMF','GRADES_12_AMF', 'GRADES_1_8_AMF', 'GRADES_9_12_AMF', 'GRADES_ALL_AMF',\n",
    "            'GRADES_PK_ASM','GRADES_KG_ASM','GRADES_4_ASM','GRADES_8_ASM','GRADES_12_ASM', 'GRADES_1_8_ASM', 'GRADES_9_12_ASM', 'GRADES_ALL_ASM',\n",
    "            'GRADES_PK_ASF','GRADES_KG_ASF','GRADES_4_ASF','GRADES_8_ASF','GRADES_12_ASF', 'GRADES_1_8_ASF', 'GRADES_9_12_ASF', 'GRADES_ALL_ASF',\n",
    "            'GRADES_PK_HIM','GRADES_KG_HIM','GRADES_4_HIM','GRADES_8_HIM','GRADES_12_HIM', 'GRADES_1_8_HIM', 'GRADES_9_12_HIM', 'GRADES_ALL_HIM',\n",
    "            'GRADES_PK_HIF','GRADES_KG_HIF','GRADES_4_HIF','GRADES_8_HIF','GRADES_12_HIF', 'GRADES_1_8_HIF', 'GRADES_9_12_HIF', 'GRADES_ALL_HIF',\n",
    "            'GRADES_PK_BLM','GRADES_KG_BLM','GRADES_4_BLM','GRADES_8_BLM','GRADES_12_BLM', 'GRADES_1_8_BLM', 'GRADES_9_12_BLM', 'GRADES_ALL_BLM',\n",
    "            'GRADES_PK_BLF','GRADES_KG_BLF','GRADES_4_BLF','GRADES_8_BLF','GRADES_12_BLF', 'GRADES_1_8_BLF', 'GRADES_9_12_BLF', 'GRADES_ALL_BLF',\n",
    "            'GRADES_PK_WHM','GRADES_KG_WHM','GRADES_4_WHM','GRADES_8_WHM','GRADES_12_WHM', 'GRADES_1_8_WHM', 'GRADES_9_12_WHM', 'GRADES_ALL_WHM',\n",
    "            'GRADES_PK_WHF','GRADES_KG_WHF','GRADES_4_WHF','GRADES_8_WHF','GRADES_12_WHF', 'GRADES_1_8_WHF', 'GRADES_9_12_WHF', 'GRADES_ALL_WHF',\n",
    "            'GRADES_PK_HPM','GRADES_KG_HPM','GRADES_4_HPM','GRADES_8_HPM','GRADES_12_HPM', 'GRADES_1_8_HPM', 'GRADES_9_12_HPM', 'GRADES_ALL_HPM',\n",
    "            'GRADES_PK_HPF','GRADES_KG_HPF','GRADES_4_HPF','GRADES_8_HPF','GRADES_12_HPF', 'GRADES_1_8_HPF', 'GRADES_9_12_HPF', 'GRADES_ALL_HPF',\n",
    "            'GRADES_PK_TRM','GRADES_KG_TRM','GRADES_4_TRM','GRADES_8_TRM','GRADES_12_TRM', 'GRADES_1_8_TRM', 'GRADES_9_12_TRM', 'GRADES_ALL_TRM',\n",
    "            'GRADES_PK_TRF','GRADES_KG_TRF','GRADES_4_TRF','GRADES_8_TRF','GRADES_12_TRF', 'GRADES_1_8_TRF', 'GRADES_9_12_TRF', 'GRADES_ALL_TRF']\n",
    "    X = X.drop(columns=drop)\n",
    "\n",
    "    #Filling missing scores with state average\n",
    "    X['AVG_READING_8_SCORE'] = X.groupby('STATE')['AVG_READING_8_SCORE'].transform(lambda x: x.fillna(x.mean()))\n",
    "    X['AVG_MATH_8_SCORE'] = X.groupby('STATE')['AVG_MATH_8_SCORE'].transform(lambda x: x.fillna(x.mean()))\n",
    "    X['AVG_READING_4_SCORE'] = X.groupby('STATE')['AVG_READING_4_SCORE'].transform(lambda x: x.fillna(x.mean()))\n",
    "    X['AVG_MATH_4_SCORE'] = X.groupby('STATE')['AVG_MATH_4_SCORE'].transform(lambda x: x.fillna(x.mean()))\n",
    "\n",
    "    #Adjusting revenue and expenditures to reflect inflation\n",
    "    #Revenue\n",
    "    X['ADJUSTED_TOTAL_REVENUE'] = X.apply(lambda row: inflation_adjustment(row,baseline_inflation, 'TOTAL_REVENUE'),axis=1)\n",
    "    X['ADJUSTED_FEDERAL_REVENUE'] = X.apply(lambda row: inflation_adjustment(row,baseline_inflation, 'FEDERAL_REVENUE'),axis=1)\n",
    "    X['ADJUSTED_STATE_REVENUE'] = X.apply(lambda row: inflation_adjustment(row,baseline_inflation, 'STATE_REVENUE'),axis=1)\n",
    "    X['ADJUSTED_LOCAL_REVENUE'] = X.apply(lambda row: inflation_adjustment(row,baseline_inflation, 'LOCAL_REVENUE'),axis=1)\n",
    "\n",
    "    #Expenditures\n",
    "    X['ADJUSTED_TOTAL_EXPENDITURE'] = X.apply(lambda row: inflation_adjustment(row,baseline_inflation, 'TOTAL_EXPENDITURE'),axis=1)\n",
    "    X['ADJUSTED_INSTRUCTION_EXPENDITURE'] = X.apply(lambda row: inflation_adjustment(row,baseline_inflation, 'INSTRUCTION_EXPENDITURE'),axis=1)\n",
    "    X['ADJUSTED_SUPPORT_SERVICES_EXPENDITURE'] = X.apply(lambda row: inflation_adjustment(row,baseline_inflation, 'SUPPORT_SERVICES_EXPENDITURE'),axis=1)\n",
    "    X['ADJUSTED_OTHER_EXPENDITURE'] = X.apply(lambda row: inflation_adjustment(row,baseline_inflation, 'OTHER_EXPENDITURE'),axis=1)\n",
    "    X['ADJUSTED_CAPITAL_OUTLAY_EXPENDITURE'] = X.apply(lambda row: inflation_adjustment(row,baseline_inflation, 'CAPITAL_OUTLAY_EXPENDITURE'),axis=1)\n",
    "    \n",
    "    #Calculating Percentages\n",
    "    #%of total revenue spent on education\n",
    "    X['%TOTAL_REVENUE'] = X['TOTAL_EXPENDITURE']/X['TOTAL_REVENUE']\n",
    "\n",
    "    #% of total expenditure spent on instruction\n",
    "    X['%TOTAL_EXPENDITURE_INSTRUCTION'] = X['INSTRUCTION_EXPENDITURE']/X['TOTAL_EXPENDITURE']\n",
    "    X['%TOTAL_EXPENDITURE_SUPPORT_SERVICES'] = X['SUPPORT_SERVICES_EXPENDITURE']/X['TOTAL_EXPENDITURE']\n",
    "    X['%TOTAL_EXPENDITURE_OTHER'] = X['OTHER_EXPENDITURE']/X['TOTAL_EXPENDITURE']\n",
    "    X['%TOTAL_EXPENDITURE_CAPITAL_OUTLAY'] = X['CAPITAL_OUTLAY_EXPENDITURE']/X['TOTAL_EXPENDITURE']\n",
    "    \n",
    "    #Cost per student\n",
    "    X['COST_PER_STUDENT'] = X['TOTAL_EXPENDITURE']/X['ENROLL']\n",
    "    \n",
    "    #Change year column to year\n",
    "    X['YEAR'] = pd.to_datetime(X['YEAR'], infer_datetime_format = True)\n",
    "    X['YEAR'] = X['YEAR'].dt.year\n",
    "    \n",
    "    #Return the wrangled dataframe\n",
    "    return X"
   ]
  },
  {
   "cell_type": "code",
   "execution_count": 48,
   "metadata": {},
   "outputs": [
    {
     "data": {
      "text/plain": [
       "((221, 81), (150, 81), (153, 81))"
      ]
     },
     "execution_count": 48,
     "metadata": {},
     "output_type": "execute_result"
    }
   ],
   "source": [
    "train = wrangle(train)\n",
    "val = wrangle(val)\n",
    "test = wrangle(test) \n",
    "\n",
    "train.shape, val.shape, test.shape"
   ]
  },
  {
   "cell_type": "code",
   "execution_count": 49,
   "metadata": {},
   "outputs": [
    {
     "data": {
      "text/html": [
       "<div>\n",
       "<style scoped>\n",
       "    .dataframe tbody tr th:only-of-type {\n",
       "        vertical-align: middle;\n",
       "    }\n",
       "\n",
       "    .dataframe tbody tr th {\n",
       "        vertical-align: top;\n",
       "    }\n",
       "\n",
       "    .dataframe thead th {\n",
       "        text-align: right;\n",
       "    }\n",
       "</style>\n",
       "<table border=\"1\" class=\"dataframe\">\n",
       "  <thead>\n",
       "    <tr style=\"text-align: right;\">\n",
       "      <th></th>\n",
       "      <th>STATE</th>\n",
       "      <th>YEAR</th>\n",
       "      <th>ENROLL</th>\n",
       "      <th>TOTAL_REVENUE</th>\n",
       "      <th>FEDERAL_REVENUE</th>\n",
       "      <th>STATE_REVENUE</th>\n",
       "      <th>LOCAL_REVENUE</th>\n",
       "      <th>TOTAL_EXPENDITURE</th>\n",
       "      <th>INSTRUCTION_EXPENDITURE</th>\n",
       "      <th>SUPPORT_SERVICES_EXPENDITURE</th>\n",
       "      <th>...</th>\n",
       "      <th>ADJUSTED_INSTRUCTION_EXPENDITURE</th>\n",
       "      <th>ADJUSTED_SUPPORT_SERVICES_EXPENDITURE</th>\n",
       "      <th>ADJUSTED_OTHER_EXPENDITURE</th>\n",
       "      <th>ADJUSTED_CAPITAL_OUTLAY_EXPENDITURE</th>\n",
       "      <th>%TOTAL_REVENUE</th>\n",
       "      <th>%TOTAL_EXPENDITURE_INSTRUCTION</th>\n",
       "      <th>%TOTAL_EXPENDITURE_SUPPORT_SERVICES</th>\n",
       "      <th>%TOTAL_EXPENDITURE_OTHER</th>\n",
       "      <th>%TOTAL_EXPENDITURE_CAPITAL_OUTLAY</th>\n",
       "      <th>COST_PER_STUDENT</th>\n",
       "    </tr>\n",
       "  </thead>\n",
       "  <tbody>\n",
       "    <tr>\n",
       "      <th>667</th>\n",
       "      <td>CALIFORNIA</td>\n",
       "      <td>1970</td>\n",
       "      <td>6307022.0</td>\n",
       "      <td>62171797.0</td>\n",
       "      <td>7148863.0</td>\n",
       "      <td>34912166.0</td>\n",
       "      <td>20110768.0</td>\n",
       "      <td>66196072.0</td>\n",
       "      <td>31070450.0</td>\n",
       "      <td>18046385.0</td>\n",
       "      <td>...</td>\n",
       "      <td>4.067270e+07</td>\n",
       "      <td>2.362358e+07</td>\n",
       "      <td>4.100546e+06</td>\n",
       "      <td>1.338325e+07</td>\n",
       "      <td>1.064728</td>\n",
       "      <td>0.469370</td>\n",
       "      <td>0.272620</td>\n",
       "      <td>0.047321</td>\n",
       "      <td>0.154445</td>\n",
       "      <td>10.495615</td>\n",
       "    </tr>\n",
       "    <tr>\n",
       "      <th>432</th>\n",
       "      <td>MISSISSIPPI</td>\n",
       "      <td>1970</td>\n",
       "      <td>499362.0</td>\n",
       "      <td>2743284.0</td>\n",
       "      <td>368830.0</td>\n",
       "      <td>1504225.0</td>\n",
       "      <td>870229.0</td>\n",
       "      <td>2996474.0</td>\n",
       "      <td>1524728.0</td>\n",
       "      <td>810371.0</td>\n",
       "      <td>...</td>\n",
       "      <td>2.263690e+06</td>\n",
       "      <td>1.203119e+06</td>\n",
       "      <td>2.718664e+05</td>\n",
       "      <td>6.251497e+05</td>\n",
       "      <td>1.092294</td>\n",
       "      <td>0.508841</td>\n",
       "      <td>0.270442</td>\n",
       "      <td>0.061111</td>\n",
       "      <td>0.140523</td>\n",
       "      <td>6.000605</td>\n",
       "    </tr>\n",
       "    <tr>\n",
       "      <th>248</th>\n",
       "      <td>UTAH</td>\n",
       "      <td>1970</td>\n",
       "      <td>474907.0</td>\n",
       "      <td>2035726.0</td>\n",
       "      <td>134703.0</td>\n",
       "      <td>1197910.0</td>\n",
       "      <td>703113.0</td>\n",
       "      <td>2150719.0</td>\n",
       "      <td>1132806.0</td>\n",
       "      <td>471430.0</td>\n",
       "      <td>...</td>\n",
       "      <td>1.845824e+06</td>\n",
       "      <td>7.681605e+05</td>\n",
       "      <td>2.502489e+05</td>\n",
       "      <td>5.582561e+05</td>\n",
       "      <td>1.056487</td>\n",
       "      <td>0.526710</td>\n",
       "      <td>0.219196</td>\n",
       "      <td>0.071409</td>\n",
       "      <td>0.159300</td>\n",
       "      <td>4.528716</td>\n",
       "    </tr>\n",
       "    <tr>\n",
       "      <th>572</th>\n",
       "      <td>HAWAII</td>\n",
       "      <td>1970</td>\n",
       "      <td>183829.0</td>\n",
       "      <td>2078877.0</td>\n",
       "      <td>170377.0</td>\n",
       "      <td>1873318.0</td>\n",
       "      <td>35182.0</td>\n",
       "      <td>1602392.0</td>\n",
       "      <td>888473.0</td>\n",
       "      <td>521929.0</td>\n",
       "      <td>...</td>\n",
       "      <td>1.234480e+06</td>\n",
       "      <td>7.251891e+05</td>\n",
       "      <td>1.791558e+05</td>\n",
       "      <td>8.760282e+04</td>\n",
       "      <td>0.770797</td>\n",
       "      <td>0.554467</td>\n",
       "      <td>0.325719</td>\n",
       "      <td>0.080468</td>\n",
       "      <td>0.039347</td>\n",
       "      <td>8.716753</td>\n",
       "    </tr>\n",
       "    <tr>\n",
       "      <th>583</th>\n",
       "      <td>MICHIGAN</td>\n",
       "      <td>1970</td>\n",
       "      <td>1764327.0</td>\n",
       "      <td>18488359.0</td>\n",
       "      <td>1357006.0</td>\n",
       "      <td>11227903.0</td>\n",
       "      <td>5903450.0</td>\n",
       "      <td>19680370.0</td>\n",
       "      <td>8725075.0</td>\n",
       "      <td>6144707.0</td>\n",
       "      <td>...</td>\n",
       "      <td>1.212297e+07</td>\n",
       "      <td>8.537703e+06</td>\n",
       "      <td>1.173746e+06</td>\n",
       "      <td>3.409036e+06</td>\n",
       "      <td>1.064474</td>\n",
       "      <td>0.443339</td>\n",
       "      <td>0.312225</td>\n",
       "      <td>0.042924</td>\n",
       "      <td>0.124669</td>\n",
       "      <td>11.154605</td>\n",
       "    </tr>\n",
       "  </tbody>\n",
       "</table>\n",
       "<p>5 rows × 81 columns</p>\n",
       "</div>"
      ],
      "text/plain": [
       "           STATE  YEAR     ENROLL  TOTAL_REVENUE  FEDERAL_REVENUE  \\\n",
       "667   CALIFORNIA  1970  6307022.0     62171797.0        7148863.0   \n",
       "432  MISSISSIPPI  1970   499362.0      2743284.0         368830.0   \n",
       "248         UTAH  1970   474907.0      2035726.0         134703.0   \n",
       "572       HAWAII  1970   183829.0      2078877.0         170377.0   \n",
       "583     MICHIGAN  1970  1764327.0     18488359.0        1357006.0   \n",
       "\n",
       "     STATE_REVENUE  LOCAL_REVENUE  TOTAL_EXPENDITURE  INSTRUCTION_EXPENDITURE  \\\n",
       "667     34912166.0     20110768.0         66196072.0               31070450.0   \n",
       "432      1504225.0       870229.0          2996474.0                1524728.0   \n",
       "248      1197910.0       703113.0          2150719.0                1132806.0   \n",
       "572      1873318.0        35182.0          1602392.0                 888473.0   \n",
       "583     11227903.0      5903450.0         19680370.0                8725075.0   \n",
       "\n",
       "     SUPPORT_SERVICES_EXPENDITURE  ...  ADJUSTED_INSTRUCTION_EXPENDITURE  \\\n",
       "667                    18046385.0  ...                      4.067270e+07   \n",
       "432                      810371.0  ...                      2.263690e+06   \n",
       "248                      471430.0  ...                      1.845824e+06   \n",
       "572                      521929.0  ...                      1.234480e+06   \n",
       "583                     6144707.0  ...                      1.212297e+07   \n",
       "\n",
       "     ADJUSTED_SUPPORT_SERVICES_EXPENDITURE  ADJUSTED_OTHER_EXPENDITURE  \\\n",
       "667                           2.362358e+07                4.100546e+06   \n",
       "432                           1.203119e+06                2.718664e+05   \n",
       "248                           7.681605e+05                2.502489e+05   \n",
       "572                           7.251891e+05                1.791558e+05   \n",
       "583                           8.537703e+06                1.173746e+06   \n",
       "\n",
       "     ADJUSTED_CAPITAL_OUTLAY_EXPENDITURE  %TOTAL_REVENUE  \\\n",
       "667                         1.338325e+07        1.064728   \n",
       "432                         6.251497e+05        1.092294   \n",
       "248                         5.582561e+05        1.056487   \n",
       "572                         8.760282e+04        0.770797   \n",
       "583                         3.409036e+06        1.064474   \n",
       "\n",
       "     %TOTAL_EXPENDITURE_INSTRUCTION  %TOTAL_EXPENDITURE_SUPPORT_SERVICES  \\\n",
       "667                        0.469370                             0.272620   \n",
       "432                        0.508841                             0.270442   \n",
       "248                        0.526710                             0.219196   \n",
       "572                        0.554467                             0.325719   \n",
       "583                        0.443339                             0.312225   \n",
       "\n",
       "     %TOTAL_EXPENDITURE_OTHER  %TOTAL_EXPENDITURE_CAPITAL_OUTLAY  \\\n",
       "667                  0.047321                           0.154445   \n",
       "432                  0.061111                           0.140523   \n",
       "248                  0.071409                           0.159300   \n",
       "572                  0.080468                           0.039347   \n",
       "583                  0.042924                           0.124669   \n",
       "\n",
       "     COST_PER_STUDENT  \n",
       "667         10.495615  \n",
       "432          6.000605  \n",
       "248          4.528716  \n",
       "572          8.716753  \n",
       "583         11.154605  \n",
       "\n",
       "[5 rows x 81 columns]"
      ]
     },
     "execution_count": 49,
     "metadata": {},
     "output_type": "execute_result"
    }
   ],
   "source": [
    "train.head()"
   ]
  },
  {
   "cell_type": "code",
   "execution_count": 50,
   "metadata": {},
   "outputs": [
    {
     "data": {
      "text/plain": [
       "(51, 49, 51)"
      ]
     },
     "execution_count": 50,
     "metadata": {},
     "output_type": "execute_result"
    }
   ],
   "source": [
    "train.STATE.nunique(), val.STATE.nunique(), test.STATE.nunique()"
   ]
  },
  {
   "cell_type": "markdown",
   "metadata": {},
   "source": [
    "### ***Baseline***"
   ]
  },
  {
   "cell_type": "code",
   "execution_count": 51,
   "metadata": {},
   "outputs": [
    {
     "data": {
      "text/plain": [
       "2.0    0.542986\n",
       "3.0    0.447964\n",
       "1.0    0.009050\n",
       "Name: READING_PROF_8, dtype: float64"
      ]
     },
     "execution_count": 51,
     "metadata": {},
     "output_type": "execute_result"
    }
   ],
   "source": [
    "train['READING_PROF_8'].value_counts(normalize=True)"
   ]
  },
  {
   "cell_type": "markdown",
   "metadata": {},
   "source": [
    "My baseline is ~50% for my majority class 2"
   ]
  },
  {
   "cell_type": "markdown",
   "metadata": {},
   "source": [
    "# ***Fit a Model***"
   ]
  },
  {
   "cell_type": "code",
   "execution_count": 52,
   "metadata": {},
   "outputs": [],
   "source": [
    "# Arrange data into X features matrix and y target vector\n",
    "\n",
    "target = 'READING_PROF_8'\n",
    "X_train = train.drop(columns=[target,'AVG_READING_8_SCORE'])\n",
    "y_train = train[target]\n",
    "X_val = val.drop(columns=[target,'AVG_READING_8_SCORE'])\n",
    "y_val = val[target]\n",
    "X_test = test.drop(columns=[target,'AVG_READING_8_SCORE'])\n",
    "y_test = test[target]"
   ]
  },
  {
   "cell_type": "markdown",
   "metadata": {},
   "source": [
    "## ***Random Forest***"
   ]
  },
  {
   "cell_type": "code",
   "execution_count": 53,
   "metadata": {},
   "outputs": [],
   "source": [
    "from sklearn.ensemble import RandomForestClassifier"
   ]
  },
  {
   "cell_type": "code",
   "execution_count": 54,
   "metadata": {},
   "outputs": [],
   "source": [
    "%matplotlib inline\n",
    "import category_encoders as ce\n",
    "\n",
    "from sklearn.impute import SimpleImputer\n",
    "from sklearn.metrics import accuracy_score\n",
    "from sklearn.pipeline import make_pipeline"
   ]
  },
  {
   "cell_type": "code",
   "execution_count": 55,
   "metadata": {},
   "outputs": [],
   "source": [
    "# Random Forest Classifier\n",
    "\n",
    "rf1 = make_pipeline(\n",
    "    ce.OrdinalEncoder(),\n",
    "    SimpleImputer(),\n",
    "    RandomForestClassifier(random_state=42)\n",
    ")"
   ]
  },
  {
   "cell_type": "code",
   "execution_count": 56,
   "metadata": {},
   "outputs": [],
   "source": [
    "from scipy.stats import randint, uniform\n",
    "\n",
    "#Hyperparameter optimization with RandomSearchCV\n",
    "param_distributions = {\n",
    "    'simpleimputer__strategy': ['mean', 'median'],\n",
    "    'randomforestclassifier__n_estimators': randint(50, 500),\n",
    "    'randomforestclassifier__max_depth': [5, 10, 15, 20, None], \n",
    "    'randomforestclassifier__max_features': uniform(0, 1),\n",
    "}"
   ]
  },
  {
   "cell_type": "code",
   "execution_count": 57,
   "metadata": {},
   "outputs": [
    {
     "name": "stdout",
     "output_type": "stream",
     "text": [
      "Fitting 5 folds for each of 1000 candidates, totalling 5000 fits\n"
     ]
    },
    {
     "name": "stderr",
     "output_type": "stream",
     "text": [
      "/Applications/anaconda3/lib/python3.7/site-packages/sklearn/model_selection/_split.py:667: UserWarning: The least populated class in y has only 2 members, which is less than n_splits=5.\n",
      "  % (min_groups, self.n_splits)), UserWarning)\n",
      "[Parallel(n_jobs=-1)]: Using backend LokyBackend with 4 concurrent workers.\n",
      "[Parallel(n_jobs=-1)]: Done   5 tasks      | elapsed:    7.3s\n",
      "[Parallel(n_jobs=-1)]: Done  10 tasks      | elapsed:   13.4s\n",
      "[Parallel(n_jobs=-1)]: Done  17 tasks      | elapsed:   25.3s\n",
      "[Parallel(n_jobs=-1)]: Done  24 tasks      | elapsed:   36.3s\n",
      "[Parallel(n_jobs=-1)]: Done  33 tasks      | elapsed:   46.5s\n",
      "[Parallel(n_jobs=-1)]: Done  42 tasks      | elapsed:   56.5s\n",
      "[Parallel(n_jobs=-1)]: Done  53 tasks      | elapsed:  1.1min\n",
      "[Parallel(n_jobs=-1)]: Done  64 tasks      | elapsed:  1.3min\n",
      "[Parallel(n_jobs=-1)]: Done  77 tasks      | elapsed:  1.5min\n",
      "[Parallel(n_jobs=-1)]: Done  90 tasks      | elapsed:  1.7min\n",
      "[Parallel(n_jobs=-1)]: Done 105 tasks      | elapsed:  1.8min\n",
      "[Parallel(n_jobs=-1)]: Done 120 tasks      | elapsed:  2.1min\n",
      "[Parallel(n_jobs=-1)]: Done 137 tasks      | elapsed:  2.6min\n",
      "[Parallel(n_jobs=-1)]: Done 154 tasks      | elapsed:  2.8min\n",
      "[Parallel(n_jobs=-1)]: Done 173 tasks      | elapsed:  3.1min\n",
      "[Parallel(n_jobs=-1)]: Done 192 tasks      | elapsed:  3.6min\n",
      "[Parallel(n_jobs=-1)]: Done 213 tasks      | elapsed:  4.0min\n",
      "[Parallel(n_jobs=-1)]: Done 234 tasks      | elapsed:  4.4min\n",
      "[Parallel(n_jobs=-1)]: Done 257 tasks      | elapsed:  4.6min\n",
      "[Parallel(n_jobs=-1)]: Done 280 tasks      | elapsed:  4.8min\n",
      "[Parallel(n_jobs=-1)]: Done 305 tasks      | elapsed:  5.2min\n",
      "[Parallel(n_jobs=-1)]: Done 330 tasks      | elapsed:  5.5min\n",
      "[Parallel(n_jobs=-1)]: Done 357 tasks      | elapsed:  5.8min\n",
      "[Parallel(n_jobs=-1)]: Done 384 tasks      | elapsed:  6.1min\n",
      "[Parallel(n_jobs=-1)]: Done 413 tasks      | elapsed:  6.7min\n",
      "[Parallel(n_jobs=-1)]: Done 442 tasks      | elapsed:  7.0min\n",
      "[Parallel(n_jobs=-1)]: Done 473 tasks      | elapsed:  7.3min\n",
      "[Parallel(n_jobs=-1)]: Done 504 tasks      | elapsed:  7.8min\n",
      "[Parallel(n_jobs=-1)]: Done 537 tasks      | elapsed:  8.3min\n",
      "[Parallel(n_jobs=-1)]: Done 570 tasks      | elapsed:  9.0min\n",
      "[Parallel(n_jobs=-1)]: Done 605 tasks      | elapsed: 10.1min\n",
      "[Parallel(n_jobs=-1)]: Done 640 tasks      | elapsed: 11.4min\n",
      "[Parallel(n_jobs=-1)]: Done 677 tasks      | elapsed: 12.6min\n",
      "[Parallel(n_jobs=-1)]: Done 714 tasks      | elapsed: 14.2min\n",
      "[Parallel(n_jobs=-1)]: Done 753 tasks      | elapsed: 15.0min\n",
      "[Parallel(n_jobs=-1)]: Done 792 tasks      | elapsed: 15.6min\n",
      "[Parallel(n_jobs=-1)]: Done 833 tasks      | elapsed: 17.4min\n",
      "[Parallel(n_jobs=-1)]: Done 874 tasks      | elapsed: 18.8min\n",
      "[Parallel(n_jobs=-1)]: Done 917 tasks      | elapsed: 19.5min\n",
      "[Parallel(n_jobs=-1)]: Done 960 tasks      | elapsed: 20.6min\n",
      "[Parallel(n_jobs=-1)]: Done 1005 tasks      | elapsed: 21.7min\n",
      "[Parallel(n_jobs=-1)]: Done 1050 tasks      | elapsed: 23.4min\n",
      "[Parallel(n_jobs=-1)]: Done 1097 tasks      | elapsed: 24.0min\n",
      "[Parallel(n_jobs=-1)]: Done 1144 tasks      | elapsed: 24.5min\n",
      "[Parallel(n_jobs=-1)]: Done 1193 tasks      | elapsed: 25.0min\n",
      "[Parallel(n_jobs=-1)]: Done 1242 tasks      | elapsed: 25.7min\n",
      "[Parallel(n_jobs=-1)]: Done 1293 tasks      | elapsed: 26.7min\n",
      "[Parallel(n_jobs=-1)]: Done 1344 tasks      | elapsed: 27.4min\n",
      "[Parallel(n_jobs=-1)]: Done 1397 tasks      | elapsed: 28.1min\n",
      "[Parallel(n_jobs=-1)]: Done 1450 tasks      | elapsed: 28.8min\n",
      "[Parallel(n_jobs=-1)]: Done 1505 tasks      | elapsed: 29.4min\n",
      "[Parallel(n_jobs=-1)]: Done 1560 tasks      | elapsed: 30.5min\n",
      "[Parallel(n_jobs=-1)]: Done 1617 tasks      | elapsed: 31.5min\n",
      "[Parallel(n_jobs=-1)]: Done 1674 tasks      | elapsed: 32.2min\n",
      "[Parallel(n_jobs=-1)]: Done 1733 tasks      | elapsed: 32.9min\n",
      "[Parallel(n_jobs=-1)]: Done 1792 tasks      | elapsed: 33.7min\n",
      "[Parallel(n_jobs=-1)]: Done 1853 tasks      | elapsed: 34.6min\n",
      "[Parallel(n_jobs=-1)]: Done 1914 tasks      | elapsed: 35.5min\n",
      "[Parallel(n_jobs=-1)]: Done 1977 tasks      | elapsed: 36.3min\n",
      "[Parallel(n_jobs=-1)]: Done 2040 tasks      | elapsed: 37.1min\n",
      "[Parallel(n_jobs=-1)]: Done 2105 tasks      | elapsed: 38.1min\n",
      "[Parallel(n_jobs=-1)]: Done 2170 tasks      | elapsed: 39.2min\n",
      "[Parallel(n_jobs=-1)]: Done 2237 tasks      | elapsed: 40.2min\n",
      "[Parallel(n_jobs=-1)]: Done 2304 tasks      | elapsed: 41.1min\n",
      "[Parallel(n_jobs=-1)]: Done 2373 tasks      | elapsed: 42.2min\n",
      "[Parallel(n_jobs=-1)]: Done 2442 tasks      | elapsed: 43.2min\n",
      "[Parallel(n_jobs=-1)]: Done 2513 tasks      | elapsed: 44.3min\n",
      "[Parallel(n_jobs=-1)]: Done 2584 tasks      | elapsed: 45.2min\n",
      "[Parallel(n_jobs=-1)]: Done 2657 tasks      | elapsed: 46.3min\n",
      "[Parallel(n_jobs=-1)]: Done 2730 tasks      | elapsed: 47.3min\n",
      "[Parallel(n_jobs=-1)]: Done 2805 tasks      | elapsed: 48.6min\n",
      "[Parallel(n_jobs=-1)]: Done 2880 tasks      | elapsed: 49.5min\n",
      "[Parallel(n_jobs=-1)]: Done 2957 tasks      | elapsed: 50.6min\n",
      "[Parallel(n_jobs=-1)]: Done 3034 tasks      | elapsed: 51.8min\n",
      "[Parallel(n_jobs=-1)]: Done 3113 tasks      | elapsed: 53.0min\n",
      "[Parallel(n_jobs=-1)]: Done 3192 tasks      | elapsed: 54.3min\n",
      "[Parallel(n_jobs=-1)]: Done 3273 tasks      | elapsed: 55.3min\n",
      "[Parallel(n_jobs=-1)]: Done 3354 tasks      | elapsed: 56.5min\n",
      "[Parallel(n_jobs=-1)]: Done 3437 tasks      | elapsed: 57.6min\n",
      "[Parallel(n_jobs=-1)]: Done 3520 tasks      | elapsed: 58.9min\n",
      "[Parallel(n_jobs=-1)]: Done 3605 tasks      | elapsed: 59.7min\n",
      "[Parallel(n_jobs=-1)]: Done 3690 tasks      | elapsed: 60.7min\n",
      "[Parallel(n_jobs=-1)]: Done 3777 tasks      | elapsed: 61.9min\n",
      "[Parallel(n_jobs=-1)]: Done 3864 tasks      | elapsed: 63.3min\n",
      "[Parallel(n_jobs=-1)]: Done 3953 tasks      | elapsed: 64.5min\n",
      "[Parallel(n_jobs=-1)]: Done 4042 tasks      | elapsed: 65.5min\n",
      "[Parallel(n_jobs=-1)]: Done 4133 tasks      | elapsed: 66.8min\n",
      "[Parallel(n_jobs=-1)]: Done 4224 tasks      | elapsed: 68.3min\n",
      "[Parallel(n_jobs=-1)]: Done 4317 tasks      | elapsed: 69.6min\n",
      "[Parallel(n_jobs=-1)]: Done 4410 tasks      | elapsed: 71.1min\n",
      "[Parallel(n_jobs=-1)]: Done 4505 tasks      | elapsed: 72.5min\n",
      "[Parallel(n_jobs=-1)]: Done 4600 tasks      | elapsed: 74.0min\n",
      "[Parallel(n_jobs=-1)]: Done 4697 tasks      | elapsed: 75.1min\n",
      "[Parallel(n_jobs=-1)]: Done 4794 tasks      | elapsed: 76.4min\n",
      "[Parallel(n_jobs=-1)]: Done 4893 tasks      | elapsed: 77.6min\n",
      "[Parallel(n_jobs=-1)]: Done 4992 tasks      | elapsed: 79.2min\n",
      "[Parallel(n_jobs=-1)]: Done 5000 out of 5000 | elapsed: 79.3min finished\n"
     ]
    },
    {
     "name": "stdout",
     "output_type": "stream",
     "text": [
      "CPU times: user 32.8 s, sys: 1.16 s, total: 34 s\n",
      "Wall time: 1h 19min 21s\n"
     ]
    },
    {
     "data": {
      "text/plain": [
       "RandomizedSearchCV(cv=5, error_score=nan,\n",
       "                   estimator=Pipeline(memory=None,\n",
       "                                      steps=[('ordinalencoder',\n",
       "                                              OrdinalEncoder(cols=None,\n",
       "                                                             drop_invariant=False,\n",
       "                                                             handle_missing='value',\n",
       "                                                             handle_unknown='value',\n",
       "                                                             mapping=None,\n",
       "                                                             return_df=True,\n",
       "                                                             verbose=0)),\n",
       "                                             ('simpleimputer',\n",
       "                                              SimpleImputer(add_indicator=False,\n",
       "                                                            copy=True,\n",
       "                                                            fill_value=None,\n",
       "                                                            missing_values=nan,\n",
       "                                                            strategy='mean',\n",
       "                                                            verbose=0)...\n",
       "                                        'randomforestclassifier__max_features': <scipy.stats._distn_infrastructure.rv_frozen object at 0x1a203a1bd0>,\n",
       "                                        'randomforestclassifier__n_estimators': <scipy.stats._distn_infrastructure.rv_frozen object at 0x1a203a19d0>,\n",
       "                                        'simpleimputer__strategy': ['mean',\n",
       "                                                                    'median']},\n",
       "                   pre_dispatch='2*n_jobs', random_state=None, refit=True,\n",
       "                   return_train_score=True, scoring='accuracy', verbose=10)"
      ]
     },
     "execution_count": 57,
     "metadata": {},
     "output_type": "execute_result"
    }
   ],
   "source": [
    "%%time\n",
    "from sklearn.model_selection import GridSearchCV, RandomizedSearchCV\n",
    "\n",
    "search = RandomizedSearchCV(\n",
    "    rf1,\n",
    "    param_distributions = param_distributions,\n",
    "    n_iter = 1000,\n",
    "    cv = 5,\n",
    "    scoring = 'accuracy',\n",
    "    verbose = 10,\n",
    "    return_train_score = True,\n",
    "    n_jobs = -1\n",
    ")\n",
    "\n",
    "search.fit(X_train, y_train)"
   ]
  },
  {
   "cell_type": "code",
   "execution_count": 58,
   "metadata": {},
   "outputs": [
    {
     "name": "stdout",
     "output_type": "stream",
     "text": [
      "Best Hyperparameters: {'randomforestclassifier__max_depth': None, 'randomforestclassifier__max_features': 0.2400932818838657, 'randomforestclassifier__n_estimators': 60, 'simpleimputer__strategy': 'mean'}\n",
      "Accuracy: 0.5840404040404041\n",
      "Best Estimator: Pipeline(memory=None,\n",
      "         steps=[('ordinalencoder',\n",
      "                 OrdinalEncoder(cols=['STATE'], drop_invariant=False,\n",
      "                                handle_missing='value', handle_unknown='value',\n",
      "                                mapping=[{'col': 'STATE',\n",
      "                                          'data_type': dtype('O'),\n",
      "                                          'mapping': CALIFORNIA               1\n",
      "MISSISSIPPI              2\n",
      "UTAH                     3\n",
      "HAWAII                   4\n",
      "MICHIGAN                 5\n",
      "MASSACHUSETTS            6\n",
      "WEST_VIRGINIA            7\n",
      "OKLAHOMA                 8\n",
      "RHODE_ISLAND             9\n",
      "VERMONT                 10\n",
      "NEW_MEXICO              11\n",
      "ILLINOIS                12\n",
      "KANSAS                  13\n",
      "GEORGIA                 14\n",
      "VIRGINIA...\n",
      "                 RandomForestClassifier(bootstrap=True, ccp_alpha=0.0,\n",
      "                                        class_weight=None, criterion='gini',\n",
      "                                        max_depth=None,\n",
      "                                        max_features=0.2400932818838657,\n",
      "                                        max_leaf_nodes=None, max_samples=None,\n",
      "                                        min_impurity_decrease=0.0,\n",
      "                                        min_impurity_split=None,\n",
      "                                        min_samples_leaf=1, min_samples_split=2,\n",
      "                                        min_weight_fraction_leaf=0.0,\n",
      "                                        n_estimators=60, n_jobs=None,\n",
      "                                        oob_score=False, random_state=42,\n",
      "                                        verbose=0, warm_start=False))],\n",
      "         verbose=False)\n"
     ]
    }
   ],
   "source": [
    "print('Best Hyperparameters:', search.best_params_)\n",
    "print('Accuracy:', search.best_score_)\n",
    "print('Best Estimator:', search.best_estimator_)"
   ]
  },
  {
   "cell_type": "markdown",
   "metadata": {},
   "source": [
    "## Best Parameters"
   ]
  },
  {
   "cell_type": "code",
   "execution_count": 60,
   "metadata": {},
   "outputs": [
    {
     "data": {
      "text/plain": [
       "Pipeline(memory=None,\n",
       "         steps=[('ordinalencoder',\n",
       "                 OrdinalEncoder(cols=['STATE'], drop_invariant=False,\n",
       "                                handle_missing='value', handle_unknown='value',\n",
       "                                mapping=[{'col': 'STATE',\n",
       "                                          'data_type': dtype('O'),\n",
       "                                          'mapping': CALIFORNIA               1\n",
       "MISSISSIPPI              2\n",
       "UTAH                     3\n",
       "HAWAII                   4\n",
       "MICHIGAN                 5\n",
       "MASSACHUSETTS            6\n",
       "WEST_VIRGINIA            7\n",
       "OKLAHOMA                 8\n",
       "RHODE_ISLAND             9\n",
       "VERMONT                 10\n",
       "NEW_MEXICO              11\n",
       "ILLINOIS                12\n",
       "KANSAS                  13\n",
       "GEORGIA                 14\n",
       "VIRGINIA...\n",
       "                 RandomForestClassifier(bootstrap=True, ccp_alpha=0.0,\n",
       "                                        class_weight=None, criterion='gini',\n",
       "                                        max_depth=None,\n",
       "                                        max_features=0.2400932818838657,\n",
       "                                        max_leaf_nodes=None, max_samples=None,\n",
       "                                        min_impurity_decrease=0.0,\n",
       "                                        min_impurity_split=None,\n",
       "                                        min_samples_leaf=1, min_samples_split=2,\n",
       "                                        min_weight_fraction_leaf=0.0,\n",
       "                                        n_estimators=60, n_jobs=None,\n",
       "                                        oob_score=False, random_state=None,\n",
       "                                        verbose=0, warm_start=False))],\n",
       "         verbose=False)"
      ]
     },
     "execution_count": 60,
     "metadata": {},
     "output_type": "execute_result"
    }
   ],
   "source": [
    "rf1 = make_pipeline(\n",
    "    ce.OrdinalEncoder(),\n",
    "    SimpleImputer(strategy = 'mean'),\n",
    "    RandomForestClassifier(max_depth = None, \n",
    "                           max_features = 0.2400932818838657, \n",
    "                           n_estimators = 60)\n",
    ")\n",
    "\n",
    "#Fit on train, score on val\n",
    "rf1.fit(X_train, y_train)"
   ]
  },
  {
   "cell_type": "code",
   "execution_count": 61,
   "metadata": {},
   "outputs": [
    {
     "name": "stdout",
     "output_type": "stream",
     "text": [
      "Train Accuracy 1.0\n",
      "Validation Accuracy 0.4533333333333333\n"
     ]
    }
   ],
   "source": [
    "# Val accuracy\n",
    "print('Train Accuracy', rf1.score(X_train, y_train))\n",
    "print('Validation Accuracy', rf1.score(X_val, y_val))"
   ]
  },
  {
   "cell_type": "markdown",
   "metadata": {},
   "source": [
    "## ***Model 2***"
   ]
  },
  {
   "cell_type": "code",
   "execution_count": 62,
   "metadata": {},
   "outputs": [],
   "source": [
    "features = ['YEAR', 'ENROLL', 'TOTAL_REVENUE', 'FEDERAL_REVENUE',\n",
    "       'STATE_REVENUE', 'LOCAL_REVENUE', 'TOTAL_EXPENDITURE',\n",
    "       'INSTRUCTION_EXPENDITURE', 'SUPPORT_SERVICES_EXPENDITURE',\n",
    "       'OTHER_EXPENDITURE', 'CAPITAL_OUTLAY_EXPENDITURE','AVG_MATH_4_SCORE',\n",
    "       'AVG_READING_4_SCORE', 'AVG_MATH_8_SCORE', \n",
    "       'MATH_PROF_8', 'ADJUSTED_TOTAL_REVENUE',\n",
    "       'ADJUSTED_FEDERAL_REVENUE', 'ADJUSTED_STATE_REVENUE',\n",
    "       'ADJUSTED_LOCAL_REVENUE', 'ADJUSTED_TOTAL_EXPENDITURE',\n",
    "       'ADJUSTED_INSTRUCTION_EXPENDITURE',\n",
    "       'ADJUSTED_SUPPORT_SERVICES_EXPENDITURE', 'ADJUSTED_OTHER_EXPENDITURE',\n",
    "       'ADJUSTED_CAPITAL_OUTLAY_EXPENDITURE', '%TOTAL_REVENUE',\n",
    "       '%TOTAL_EXPENDITURE_INSTRUCTION', '%TOTAL_EXPENDITURE_SUPPORT_SERVICES',\n",
    "       '%TOTAL_EXPENDITURE_OTHER', '%TOTAL_EXPENDITURE_CAPITAL_OUTLAY',\n",
    "       'COST_PER_STUDENT']\n",
    "\n",
    "target = 'READING_PROF_8'\n",
    "X_train_new = train[features]\n",
    "y_train = train[target]\n",
    "X_val_new = val[features]\n",
    "y_val = val[target]\n",
    "X_test_new = test[features]\n",
    "y_test = test[target]"
   ]
  },
  {
   "cell_type": "code",
   "execution_count": 63,
   "metadata": {},
   "outputs": [
    {
     "name": "stdout",
     "output_type": "stream",
     "text": [
      "Fitting 5 folds for each of 1000 candidates, totalling 5000 fits\n"
     ]
    },
    {
     "name": "stderr",
     "output_type": "stream",
     "text": [
      "/Applications/anaconda3/lib/python3.7/site-packages/sklearn/model_selection/_split.py:667: UserWarning: The least populated class in y has only 2 members, which is less than n_splits=5.\n",
      "  % (min_groups, self.n_splits)), UserWarning)\n",
      "[Parallel(n_jobs=-1)]: Using backend LokyBackend with 4 concurrent workers.\n",
      "[Parallel(n_jobs=-1)]: Done   5 tasks      | elapsed:    5.1s\n",
      "[Parallel(n_jobs=-1)]: Done  10 tasks      | elapsed:    6.8s\n",
      "[Parallel(n_jobs=-1)]: Done  17 tasks      | elapsed:   10.1s\n",
      "[Parallel(n_jobs=-1)]: Done  24 tasks      | elapsed:   12.6s\n",
      "[Parallel(n_jobs=-1)]: Done  33 tasks      | elapsed:   14.7s\n",
      "[Parallel(n_jobs=-1)]: Done  42 tasks      | elapsed:   19.4s\n",
      "[Parallel(n_jobs=-1)]: Done  53 tasks      | elapsed:   25.9s\n",
      "[Parallel(n_jobs=-1)]: Done  64 tasks      | elapsed:   30.3s\n",
      "[Parallel(n_jobs=-1)]: Done  77 tasks      | elapsed:   35.0s\n",
      "[Parallel(n_jobs=-1)]: Done  90 tasks      | elapsed:   39.8s\n",
      "[Parallel(n_jobs=-1)]: Done 105 tasks      | elapsed:   42.8s\n",
      "[Parallel(n_jobs=-1)]: Done 120 tasks      | elapsed:   48.2s\n",
      "[Parallel(n_jobs=-1)]: Done 137 tasks      | elapsed:   53.1s\n",
      "[Parallel(n_jobs=-1)]: Done 154 tasks      | elapsed:   57.5s\n",
      "[Parallel(n_jobs=-1)]: Done 173 tasks      | elapsed:  1.0min\n",
      "[Parallel(n_jobs=-1)]: Done 192 tasks      | elapsed:  1.1min\n",
      "[Parallel(n_jobs=-1)]: Done 213 tasks      | elapsed:  1.2min\n",
      "[Parallel(n_jobs=-1)]: Done 234 tasks      | elapsed:  1.3min\n",
      "[Parallel(n_jobs=-1)]: Done 257 tasks      | elapsed:  1.4min\n",
      "[Parallel(n_jobs=-1)]: Done 280 tasks      | elapsed:  1.6min\n",
      "[Parallel(n_jobs=-1)]: Done 305 tasks      | elapsed:  1.7min\n",
      "[Parallel(n_jobs=-1)]: Done 330 tasks      | elapsed:  1.9min\n",
      "[Parallel(n_jobs=-1)]: Done 357 tasks      | elapsed:  2.0min\n",
      "[Parallel(n_jobs=-1)]: Done 384 tasks      | elapsed:  2.1min\n",
      "[Parallel(n_jobs=-1)]: Done 413 tasks      | elapsed:  2.2min\n",
      "[Parallel(n_jobs=-1)]: Done 442 tasks      | elapsed:  2.3min\n",
      "[Parallel(n_jobs=-1)]: Done 473 tasks      | elapsed:  2.5min\n",
      "[Parallel(n_jobs=-1)]: Done 504 tasks      | elapsed:  2.6min\n",
      "[Parallel(n_jobs=-1)]: Done 537 tasks      | elapsed:  2.8min\n",
      "[Parallel(n_jobs=-1)]: Done 570 tasks      | elapsed:  3.0min\n",
      "[Parallel(n_jobs=-1)]: Done 605 tasks      | elapsed:  3.1min\n",
      "[Parallel(n_jobs=-1)]: Done 640 tasks      | elapsed:  3.3min\n",
      "[Parallel(n_jobs=-1)]: Done 677 tasks      | elapsed:  3.4min\n",
      "[Parallel(n_jobs=-1)]: Done 714 tasks      | elapsed:  3.6min\n",
      "[Parallel(n_jobs=-1)]: Done 753 tasks      | elapsed:  3.8min\n",
      "[Parallel(n_jobs=-1)]: Done 792 tasks      | elapsed:  4.0min\n",
      "[Parallel(n_jobs=-1)]: Done 833 tasks      | elapsed:  4.2min\n",
      "[Parallel(n_jobs=-1)]: Done 874 tasks      | elapsed:  4.3min\n",
      "[Parallel(n_jobs=-1)]: Done 917 tasks      | elapsed:  4.6min\n",
      "[Parallel(n_jobs=-1)]: Done 960 tasks      | elapsed:  4.8min\n",
      "[Parallel(n_jobs=-1)]: Done 1005 tasks      | elapsed:  5.0min\n",
      "[Parallel(n_jobs=-1)]: Done 1050 tasks      | elapsed:  5.2min\n",
      "[Parallel(n_jobs=-1)]: Done 1097 tasks      | elapsed:  5.4min\n",
      "[Parallel(n_jobs=-1)]: Done 1144 tasks      | elapsed:  5.6min\n",
      "[Parallel(n_jobs=-1)]: Done 1193 tasks      | elapsed:  5.9min\n",
      "[Parallel(n_jobs=-1)]: Done 1242 tasks      | elapsed:  6.1min\n",
      "[Parallel(n_jobs=-1)]: Done 1293 tasks      | elapsed:  6.3min\n",
      "[Parallel(n_jobs=-1)]: Done 1344 tasks      | elapsed:  6.5min\n",
      "[Parallel(n_jobs=-1)]: Done 1397 tasks      | elapsed:  6.8min\n",
      "[Parallel(n_jobs=-1)]: Done 1450 tasks      | elapsed:  7.0min\n",
      "[Parallel(n_jobs=-1)]: Done 1505 tasks      | elapsed:  7.2min\n",
      "[Parallel(n_jobs=-1)]: Done 1560 tasks      | elapsed:  7.5min\n",
      "[Parallel(n_jobs=-1)]: Done 1617 tasks      | elapsed:  7.8min\n",
      "[Parallel(n_jobs=-1)]: Done 1674 tasks      | elapsed:  8.0min\n",
      "[Parallel(n_jobs=-1)]: Done 1733 tasks      | elapsed:  8.3min\n",
      "[Parallel(n_jobs=-1)]: Done 1792 tasks      | elapsed:  8.6min\n",
      "[Parallel(n_jobs=-1)]: Done 1853 tasks      | elapsed:  8.9min\n",
      "[Parallel(n_jobs=-1)]: Done 1914 tasks      | elapsed:  9.2min\n",
      "[Parallel(n_jobs=-1)]: Done 1977 tasks      | elapsed:  9.5min\n",
      "[Parallel(n_jobs=-1)]: Done 2040 tasks      | elapsed:  9.8min\n",
      "[Parallel(n_jobs=-1)]: Done 2105 tasks      | elapsed: 10.1min\n",
      "[Parallel(n_jobs=-1)]: Done 2170 tasks      | elapsed: 10.4min\n",
      "[Parallel(n_jobs=-1)]: Done 2237 tasks      | elapsed: 10.7min\n",
      "[Parallel(n_jobs=-1)]: Done 2304 tasks      | elapsed: 11.1min\n",
      "[Parallel(n_jobs=-1)]: Done 2373 tasks      | elapsed: 11.4min\n",
      "[Parallel(n_jobs=-1)]: Done 2442 tasks      | elapsed: 11.7min\n",
      "[Parallel(n_jobs=-1)]: Done 2513 tasks      | elapsed: 12.0min\n",
      "[Parallel(n_jobs=-1)]: Done 2584 tasks      | elapsed: 12.3min\n",
      "[Parallel(n_jobs=-1)]: Done 2657 tasks      | elapsed: 12.7min\n",
      "[Parallel(n_jobs=-1)]: Done 2730 tasks      | elapsed: 13.0min\n",
      "[Parallel(n_jobs=-1)]: Done 2805 tasks      | elapsed: 13.4min\n",
      "[Parallel(n_jobs=-1)]: Done 2880 tasks      | elapsed: 13.7min\n",
      "[Parallel(n_jobs=-1)]: Done 2957 tasks      | elapsed: 14.0min\n",
      "[Parallel(n_jobs=-1)]: Done 3034 tasks      | elapsed: 14.3min\n",
      "[Parallel(n_jobs=-1)]: Done 3113 tasks      | elapsed: 14.7min\n",
      "[Parallel(n_jobs=-1)]: Done 3192 tasks      | elapsed: 15.1min\n",
      "[Parallel(n_jobs=-1)]: Done 3273 tasks      | elapsed: 15.4min\n",
      "[Parallel(n_jobs=-1)]: Done 3354 tasks      | elapsed: 15.8min\n",
      "[Parallel(n_jobs=-1)]: Done 3437 tasks      | elapsed: 16.1min\n",
      "[Parallel(n_jobs=-1)]: Done 3520 tasks      | elapsed: 16.5min\n",
      "[Parallel(n_jobs=-1)]: Done 3605 tasks      | elapsed: 16.8min\n",
      "[Parallel(n_jobs=-1)]: Done 3690 tasks      | elapsed: 17.3min\n",
      "[Parallel(n_jobs=-1)]: Done 3777 tasks      | elapsed: 17.8min\n",
      "[Parallel(n_jobs=-1)]: Done 3864 tasks      | elapsed: 18.2min\n",
      "[Parallel(n_jobs=-1)]: Done 3953 tasks      | elapsed: 18.6min\n",
      "[Parallel(n_jobs=-1)]: Done 4042 tasks      | elapsed: 18.9min\n",
      "[Parallel(n_jobs=-1)]: Done 4133 tasks      | elapsed: 19.4min\n",
      "[Parallel(n_jobs=-1)]: Done 4224 tasks      | elapsed: 19.8min\n",
      "[Parallel(n_jobs=-1)]: Done 4317 tasks      | elapsed: 20.2min\n",
      "[Parallel(n_jobs=-1)]: Done 4410 tasks      | elapsed: 20.6min\n",
      "[Parallel(n_jobs=-1)]: Done 4505 tasks      | elapsed: 21.1min\n",
      "[Parallel(n_jobs=-1)]: Done 4600 tasks      | elapsed: 21.6min\n",
      "[Parallel(n_jobs=-1)]: Done 4697 tasks      | elapsed: 22.0min\n",
      "[Parallel(n_jobs=-1)]: Done 4794 tasks      | elapsed: 22.4min\n",
      "[Parallel(n_jobs=-1)]: Done 4893 tasks      | elapsed: 22.8min\n",
      "[Parallel(n_jobs=-1)]: Done 4992 tasks      | elapsed: 23.3min\n"
     ]
    },
    {
     "name": "stdout",
     "output_type": "stream",
     "text": [
      "CPU times: user 31.8 s, sys: 1.05 s, total: 32.8 s\n",
      "Wall time: 23min 19s\n"
     ]
    },
    {
     "name": "stderr",
     "output_type": "stream",
     "text": [
      "[Parallel(n_jobs=-1)]: Done 5000 out of 5000 | elapsed: 23.3min finished\n"
     ]
    },
    {
     "data": {
      "text/plain": [
       "RandomizedSearchCV(cv=5, error_score=nan,\n",
       "                   estimator=Pipeline(memory=None,\n",
       "                                      steps=[('ordinalencoder',\n",
       "                                              OrdinalEncoder(cols=None,\n",
       "                                                             drop_invariant=False,\n",
       "                                                             handle_missing='value',\n",
       "                                                             handle_unknown='value',\n",
       "                                                             mapping=None,\n",
       "                                                             return_df=True,\n",
       "                                                             verbose=0)),\n",
       "                                             ('simpleimputer',\n",
       "                                              SimpleImputer(add_indicator=False,\n",
       "                                                            copy=True,\n",
       "                                                            fill_value=None,\n",
       "                                                            missing_values=nan,\n",
       "                                                            strategy='mean',\n",
       "                                                            verbose=0)...\n",
       "                                        'randomforestclassifier__max_features': <scipy.stats._distn_infrastructure.rv_frozen object at 0x1a203a1bd0>,\n",
       "                                        'randomforestclassifier__n_estimators': <scipy.stats._distn_infrastructure.rv_frozen object at 0x1a203a19d0>,\n",
       "                                        'simpleimputer__strategy': ['mean',\n",
       "                                                                    'median']},\n",
       "                   pre_dispatch='2*n_jobs', random_state=None, refit=True,\n",
       "                   return_train_score=True, scoring='accuracy', verbose=10)"
      ]
     },
     "execution_count": 63,
     "metadata": {},
     "output_type": "execute_result"
    }
   ],
   "source": [
    "%%time\n",
    "from sklearn.model_selection import GridSearchCV, RandomizedSearchCV\n",
    "search.fit(X_train_new, y_train);"
   ]
  },
  {
   "cell_type": "code",
   "execution_count": 64,
   "metadata": {},
   "outputs": [
    {
     "name": "stdout",
     "output_type": "stream",
     "text": [
      "Best H yperparameters: {'randomforestclassifier__max_depth': 20, 'randomforestclassifier__max_features': 0.5146682164890661, 'randomforestclassifier__n_estimators': 67, 'simpleimputer__strategy': 'median'}\n",
      "Accuracy: 0.5798989898989898\n",
      "Best Estimator: Pipeline(memory=None,\n",
      "         steps=[('ordinalencoder',\n",
      "                 OrdinalEncoder(cols=[], drop_invariant=False,\n",
      "                                handle_missing='value', handle_unknown='value',\n",
      "                                mapping=[], return_df=True, verbose=0)),\n",
      "                ('simpleimputer',\n",
      "                 SimpleImputer(add_indicator=False, copy=True, fill_value=None,\n",
      "                               missing_values=nan, strategy='median',\n",
      "                               verbose=0)),\n",
      "                ('randomforestclassifier',\n",
      "                 RandomForestClassifier(b..._alpha=0.0,\n",
      "                                        class_weight=None, criterion='gini',\n",
      "                                        max_depth=20,\n",
      "                                        max_features=0.5146682164890661,\n",
      "                                        max_leaf_nodes=None, max_samples=None,\n",
      "                                        min_impurity_decrease=0.0,\n",
      "                                        min_impurity_split=None,\n",
      "                                        min_samples_leaf=1, min_samples_split=2,\n",
      "                                        min_weight_fraction_leaf=0.0,\n",
      "                                        n_estimators=67, n_jobs=None,\n",
      "                                        oob_score=False, random_state=42,\n",
      "                                        verbose=0, warm_start=False))],\n",
      "         verbose=False)\n"
     ]
    }
   ],
   "source": [
    "print('Best H yperparameters:', search.best_params_)\n",
    "print('Accuracy:', search.best_score_)\n",
    "print('Best Estimator:', search.best_estimator_)"
   ]
  },
  {
   "cell_type": "markdown",
   "metadata": {},
   "source": [
    "## Best Parameters"
   ]
  },
  {
   "cell_type": "code",
   "execution_count": 66,
   "metadata": {},
   "outputs": [
    {
     "data": {
      "text/plain": [
       "Pipeline(memory=None,\n",
       "         steps=[('simpleimputer',\n",
       "                 SimpleImputer(add_indicator=False, copy=True, fill_value=None,\n",
       "                               missing_values=nan, strategy='median',\n",
       "                               verbose=0)),\n",
       "                ('randomforestclassifier',\n",
       "                 RandomForestClassifier(bootstrap=True, ccp_alpha=0.0,\n",
       "                                        class_weight=None, criterion='gini',\n",
       "                                        max_depth=20,\n",
       "                                        max_features=0.5146682164890661,\n",
       "                                        max_leaf_nodes=None, max_samples=None,\n",
       "                                        min_impurity_decrease=0.0,\n",
       "                                        min_impurity_split=None,\n",
       "                                        min_samples_leaf=1, min_samples_split=2,\n",
       "                                        min_weight_fraction_leaf=0.0,\n",
       "                                        n_estimators=67, n_jobs=None,\n",
       "                                        oob_score=False, random_state=None,\n",
       "                                        verbose=0, warm_start=False))],\n",
       "         verbose=False)"
      ]
     },
     "execution_count": 66,
     "metadata": {},
     "output_type": "execute_result"
    }
   ],
   "source": [
    "rf2 = make_pipeline(\n",
    "    SimpleImputer(strategy = 'median'),\n",
    "    RandomForestClassifier(max_depth = 20, \n",
    "                         max_features = 0.5146682164890661, \n",
    "                         n_estimators = 67))\n",
    "\n",
    "\n",
    "#Fit on train, score on val\n",
    "rf2.fit(X_train_new, y_train)"
   ]
  },
  {
   "cell_type": "code",
   "execution_count": 67,
   "metadata": {},
   "outputs": [
    {
     "name": "stdout",
     "output_type": "stream",
     "text": [
      "Train Accuracy 1.0\n",
      "Validation Accuracy 0.4866666666666667\n"
     ]
    }
   ],
   "source": [
    "# Val accuracy\n",
    "print('Train Accuracy', rf2.score(X_train_new, y_train))\n",
    "print('Validation Accuracy', rf2.score(X_val_new, y_val))"
   ]
  },
  {
   "cell_type": "code",
   "execution_count": null,
   "metadata": {},
   "outputs": [],
   "source": []
  }
 ],
 "metadata": {
  "kernelspec": {
   "display_name": "Python 3",
   "language": "python",
   "name": "python3"
  },
  "language_info": {
   "codemirror_mode": {
    "name": "ipython",
    "version": 3
   },
   "file_extension": ".py",
   "mimetype": "text/x-python",
   "name": "python",
   "nbconvert_exporter": "python",
   "pygments_lexer": "ipython3",
   "version": "3.7.6"
  }
 },
 "nbformat": 4,
 "nbformat_minor": 2
}
